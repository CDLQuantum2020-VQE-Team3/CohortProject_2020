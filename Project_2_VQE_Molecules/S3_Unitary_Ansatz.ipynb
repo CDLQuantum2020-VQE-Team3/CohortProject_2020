{
 "cells": [
  {
   "cell_type": "markdown",
   "metadata": {},
   "source": [
    "# Unitary ansatz entering the VQE\n",
    "\n",
    "The final energy output of a VQE calculation will crucially depend on the ansatz/form of the parameterized unitary $\\hat U(\\boldsymbol{\\theta})$ employed in state preparation. Here we review two popular approaches, the unitary coupled cluster and qubit coupled cluster methodologies, and benchmark them for energy calculations of small molecules."
   ]
  },
  {
   "cell_type": "code",
   "execution_count": 1,
   "metadata": {},
   "outputs": [],
   "source": [
    "import numpy as np\n",
    "import tequila as tq\n",
    "from utility import *\n",
    "import matplotlib.pyplot as plt\n",
    "threshold = 1e-6 #Cutoff for UCC MP2 amplitudes and QCC ranking gradients"
   ]
  },
  {
   "cell_type": "markdown",
   "metadata": {},
   "source": [
    "## Unitary Coupled Cluster (UCC)\n",
    "\n",
    "The UCC ansatz is obtained by 'unitarizing' the traditional coupled cluster ansatz,\n",
    "$$ e^{\\hat T} \\rightarrow e^{\\hat T - \\hat T^\\dagger} \\equiv \\hat U_{\\text{UCC}}$$\n",
    "\n",
    "\n",
    "Due to non-commutativity of terms in $\\hat T - \\hat T^\\dagger$, the UCC ansatz does not have a straightforward decomposition in terms of circuit primitives implementable on the quantum computer. Therefore, to obtain a form which can be compiled, we employ the Trotter approximation. The accuracy of the circuit ansatz relative to the exact UCC operator will be dependent on how many Trotter steps are employed. The number of Trotter steps is commonly set to its minimal value of one to avoid excessive circuit depth."
   ]
  },
  {
   "cell_type": "code",
   "execution_count": 4,
   "metadata": {},
   "outputs": [],
   "source": [
    "trotter_steps = 1"
   ]
  },
  {
   "cell_type": "markdown",
   "metadata": {},
   "source": [
    "### H2 in STO-3G basis\n",
    "\n",
    "Below is a sample VQE simulation using the UCCSD ansatz compiled using a single trotter step for H$_2$ in minimal basis at $R=2.5$ (Angstrom). For comparison, we can run FCI to obtain the true ground state energy.\n"
   ]
  },
  {
   "cell_type": "code",
   "execution_count": 5,
   "metadata": {},
   "outputs": [
    {
     "name": "stdout",
     "output_type": "stream",
     "text": [
      "Number of spin-orbitals (qubits): 4 \n",
      "\n",
      "FCI energy: -0.9360549199436612\n"
     ]
    }
   ],
   "source": [
    "xyz_data = get_molecular_data('h2', geometry=2.5, xyz_format=True)\n",
    "basis='sto-3g'\n",
    "\n",
    "h2 = tq.quantumchemistry.Molecule(geometry=xyz_data, basis_set=basis)\n",
    "\n",
    "print('Number of spin-orbitals (qubits): {} \\n'.format(2*h2.n_orbitals))\n",
    "\n",
    "E_FCI = h2.compute_energy(method='fci')\n",
    "\n",
    "print('FCI energy: {}'.format(E_FCI))"
   ]
  },
  {
   "cell_type": "markdown",
   "metadata": {},
   "source": [
    "The UCCSD VQE optimization is of the form\n",
    "$$E = \\min_{\\boldsymbol{\\theta}} \\langle \\text{HF} | \\hat U_{\\text{UCC}}^\\dagger(\\boldsymbol{\\theta}) \\hat H  \\hat U_{\\text{UCC}} (\\boldsymbol{\\theta}) | \\text{HF} \\rangle $$\n",
    "To expedite the optimization process, we can set the initial guess of the amplitudes to zero, i.e. the optimization will begin at the Hartree Fock state. This heuristic is best suited for when Hartree Fock is believed to be in qualitative agreement with the true ground state. To further alleviate quantum resources, we can estimate the amplitudes using classical electronic structure methods (here, MP2 perturbation theory), and only include the unitaries with non-zero estimated amplitudes."
   ]
  },
  {
   "cell_type": "code",
   "execution_count": 4,
   "metadata": {
    "scrolled": true
   },
   "outputs": [
    {
     "name": "stdout",
     "output_type": "stream",
     "text": [
      "\n",
      "Hamiltonian has 15 terms\n",
      "\n",
      "\n",
      "Number of UCCSD amplitudes: 1 \n",
      "\n",
      "\n",
      "Starting optimization:\n",
      "\n",
      "Optimizer: <class 'tequila.optimizers.optimizer_scipy.OptimizerSciPy'> \n",
      "backend         : qulacs\n",
      "samples         : None\n",
      "save_history    : True\n",
      "noise           : None\n",
      "\n",
      "Method          : BFGS\n",
      "Objective       : 1 expectationvalues\n",
      "gradient        : 32 expectationvalues\n",
      "\n",
      "active variables : 1\n",
      "\n",
      "E=-0.70294360  angles= {(1, 0, 1, 0): 0.0}  samples= None\n",
      "E=-0.92698008  angles= {(1, 0, 1, 0): -0.5644201636314392}  samples= None\n",
      "E=-0.93354955  angles= {(1, 0, 1, 0): -0.756477668453395}  samples= None\n",
      "E=-0.93605486  angles= {(1, 0, 1, 0): -0.6900732739717247}  samples= None\n",
      "E=-0.93605492  angles= {(1, 0, 1, 0): -0.6904080632337539}  samples= None\n",
      "E=-0.93605492  angles= {(1, 0, 1, 0): -0.6904070264134937}  samples= None\n",
      "Optimization terminated successfully.\n",
      "         Current function value: -0.936055\n",
      "         Iterations: 5\n",
      "         Function evaluations: 6\n",
      "         Gradient evaluations: 6\n",
      "\n",
      "Obtained UCCSD energy: -0.936054919943661\n"
     ]
    }
   ],
   "source": [
    "H = h2.make_hamiltonian()\n",
    "\n",
    "print(\"\\nHamiltonian has {} terms\\n\".format(len(H)))\n",
    "\n",
    "U_UCCSD = h2.make_uccsd_ansatz(initial_amplitudes='MP2',threshold=threshold, trotter_steps=trotter_steps)\n",
    "\n",
    "E = tq.ExpectationValue(H=H, U=U_UCCSD)\n",
    "\n",
    "print('\\nNumber of UCCSD amplitudes: {} \\n'.format(len(E.extract_variables())))\n",
    "\n",
    "print('\\nStarting optimization:\\n')\n",
    "\n",
    "result = tq.minimize(objective=E, method=\"BFGS\", initial_values={k:0.0 for k in E.extract_variables()}, tol=threshold)\n",
    "\n",
    "print('\\nObtained UCCSD energy: {}'.format(result.energy))"
   ]
  },
  {
   "cell_type": "markdown",
   "metadata": {},
   "source": [
    "We see that the converged UCCSD energy is in exact agreement with the FCI energy, as expected for a $2$-electron system. \n",
    "\n",
    "### H2O in 6-31G basis\n",
    "\n",
    "Now let us try a larger problem of H$_2$O in 6-31G basis. However, we will restrict the active space. The unrestricted problem leads to a $14$-qubit Hamiltonian, and $34$ UCCSD amplitudes to optimize even after neglecting the zero MP2 amplitudes. Therefore, we will remove some orbital degrees of freedom which are less important in accurately describing the electronic structure. By freezing all orbitals other than $0b_1$, $1b_1$, $2a_1$, and $3a_1$, we reduce the problem to an $8$-qubit Hamiltonian with $8$ UCCSD variational amplitudes."
   ]
  },
  {
   "cell_type": "code",
   "execution_count": 7,
   "metadata": {},
   "outputs": [
    {
     "ename": "KeyboardInterrupt",
     "evalue": "",
     "output_type": "error",
     "traceback": [
      "\u001B[0;31m---------------------------------------------------------------------------\u001B[0m",
      "\u001B[0;31mKeyboardInterrupt\u001B[0m                         Traceback (most recent call last)",
      "\u001B[0;32m<ipython-input-7-589e3089cee8>\u001B[0m in \u001B[0;36m<module>\u001B[0;34m\u001B[0m\n\u001B[1;32m      4\u001B[0m \u001B[0mbasis\u001B[0m \u001B[0;34m=\u001B[0m \u001B[0;34m'6-31g'\u001B[0m\u001B[0;34m\u001B[0m\u001B[0;34m\u001B[0m\u001B[0m\n\u001B[1;32m      5\u001B[0m \u001B[0mactive\u001B[0m \u001B[0;34m=\u001B[0m \u001B[0;34m{\u001B[0m\u001B[0;34m'B1'\u001B[0m\u001B[0;34m:\u001B[0m\u001B[0;34m[\u001B[0m\u001B[0;36m0\u001B[0m\u001B[0;34m,\u001B[0m\u001B[0;36m1\u001B[0m\u001B[0;34m]\u001B[0m\u001B[0;34m,\u001B[0m \u001B[0;34m'A1'\u001B[0m\u001B[0;34m:\u001B[0m\u001B[0;34m[\u001B[0m\u001B[0;36m2\u001B[0m\u001B[0;34m,\u001B[0m\u001B[0;36m3\u001B[0m\u001B[0;34m]\u001B[0m\u001B[0;34m}\u001B[0m\u001B[0;34m\u001B[0m\u001B[0;34m\u001B[0m\u001B[0m\n\u001B[0;32m----> 6\u001B[0;31m \u001B[0mh2o\u001B[0m \u001B[0;34m=\u001B[0m \u001B[0mtq\u001B[0m\u001B[0;34m.\u001B[0m\u001B[0mquantumchemistry\u001B[0m\u001B[0;34m.\u001B[0m\u001B[0mMolecule\u001B[0m\u001B[0;34m(\u001B[0m\u001B[0mgeometry\u001B[0m\u001B[0;34m=\u001B[0m\u001B[0mxyz_data\u001B[0m\u001B[0;34m,\u001B[0m \u001B[0mbasis_set\u001B[0m \u001B[0;34m=\u001B[0m \u001B[0mbasis\u001B[0m\u001B[0;34m,\u001B[0m \u001B[0mactive_orbitals\u001B[0m \u001B[0;34m=\u001B[0m \u001B[0mactive\u001B[0m\u001B[0;34m)\u001B[0m\u001B[0;34m\u001B[0m\u001B[0;34m\u001B[0m\u001B[0m\n\u001B[0m\u001B[1;32m      7\u001B[0m \u001B[0;34m\u001B[0m\u001B[0m\n\u001B[1;32m      8\u001B[0m \u001B[0mprint\u001B[0m\u001B[0;34m(\u001B[0m\u001B[0;34m'Number of spin-orbitals (qubits): {} \\n'\u001B[0m\u001B[0;34m.\u001B[0m\u001B[0mformat\u001B[0m\u001B[0;34m(\u001B[0m\u001B[0;36m2\u001B[0m\u001B[0;34m*\u001B[0m\u001B[0mh2o\u001B[0m\u001B[0;34m.\u001B[0m\u001B[0mn_orbitals\u001B[0m\u001B[0;34m)\u001B[0m\u001B[0;34m)\u001B[0m\u001B[0;34m\u001B[0m\u001B[0;34m\u001B[0m\u001B[0m\n",
      "\u001B[0;32m~/Documents/PhD/CDLQuantum/tequila/src/tequila/quantumchemistry/__init__.py\u001B[0m in \u001B[0;36mMolecule\u001B[0;34m(geometry, basis_set, transformation, backend, guess_wfn, *args, **kwargs)\u001B[0m\n\u001B[1;32m     81\u001B[0m         \u001B[0;32mraise\u001B[0m \u001B[0mException\u001B[0m\u001B[0;34m(\u001B[0m\u001B[0;34m\"guess_wfn only works for psi4\"\u001B[0m\u001B[0;34m)\u001B[0m\u001B[0;34m\u001B[0m\u001B[0;34m\u001B[0m\u001B[0m\n\u001B[1;32m     82\u001B[0m \u001B[0;34m\u001B[0m\u001B[0m\n\u001B[0;32m---> 83\u001B[0;31m     \u001B[0;32mreturn\u001B[0m \u001B[0mINSTALLED_QCHEMISTRY_BACKENDS\u001B[0m\u001B[0;34m[\u001B[0m\u001B[0mbackend\u001B[0m\u001B[0;34m.\u001B[0m\u001B[0mlower\u001B[0m\u001B[0;34m(\u001B[0m\u001B[0;34m)\u001B[0m\u001B[0;34m]\u001B[0m\u001B[0;34m(\u001B[0m\u001B[0mparameters\u001B[0m\u001B[0;34m=\u001B[0m\u001B[0mparameters\u001B[0m\u001B[0;34m,\u001B[0m \u001B[0mtransformation\u001B[0m\u001B[0;34m=\u001B[0m\u001B[0mtransformation\u001B[0m\u001B[0;34m,\u001B[0m \u001B[0mguess_wfn\u001B[0m\u001B[0;34m=\u001B[0m\u001B[0mguess_wfn\u001B[0m\u001B[0;34m,\u001B[0m \u001B[0;34m*\u001B[0m\u001B[0margs\u001B[0m\u001B[0;34m,\u001B[0m \u001B[0;34m**\u001B[0m\u001B[0mkwargs\u001B[0m\u001B[0;34m)\u001B[0m\u001B[0;34m\u001B[0m\u001B[0;34m\u001B[0m\u001B[0m\n\u001B[0m\u001B[1;32m     84\u001B[0m \u001B[0;34m\u001B[0m\u001B[0m\n\u001B[1;32m     85\u001B[0m \u001B[0;34m\u001B[0m\u001B[0m\n",
      "\u001B[0;32m~/Documents/PhD/CDLQuantum/tequila/src/tequila/quantumchemistry/psi4_interface.py\u001B[0m in \u001B[0;36m__init__\u001B[0;34m(self, parameters, transformation, active_orbitals, reference, *args, **kwargs)\u001B[0m\n\u001B[1;32m    219\u001B[0m \u001B[0;34m\u001B[0m\u001B[0m\n\u001B[1;32m    220\u001B[0m         \u001B[0;32mif\u001B[0m \u001B[0mactive_orbitals\u001B[0m \u001B[0;32mis\u001B[0m \u001B[0;32mnot\u001B[0m \u001B[0;32mNone\u001B[0m\u001B[0;34m:\u001B[0m\u001B[0;34m\u001B[0m\u001B[0;34m\u001B[0m\u001B[0m\n\u001B[0;32m--> 221\u001B[0;31m             \u001B[0mself\u001B[0m\u001B[0;34m.\u001B[0m\u001B[0mactive_space\u001B[0m \u001B[0;34m=\u001B[0m \u001B[0mself\u001B[0m\u001B[0;34m.\u001B[0m\u001B[0m_make_psi4_active_space_data\u001B[0m\u001B[0;34m(\u001B[0m\u001B[0mactive_orbitals\u001B[0m\u001B[0;34m=\u001B[0m\u001B[0mactive_orbitals\u001B[0m\u001B[0;34m,\u001B[0m \u001B[0mreference\u001B[0m\u001B[0;34m=\u001B[0m\u001B[0mreference\u001B[0m\u001B[0;34m)\u001B[0m\u001B[0;34m\u001B[0m\u001B[0;34m\u001B[0m\u001B[0m\n\u001B[0m\u001B[1;32m    222\u001B[0m             \u001B[0;31m# need to recompute\u001B[0m\u001B[0;34m\u001B[0m\u001B[0;34m\u001B[0m\u001B[0;34m\u001B[0m\u001B[0m\n\u001B[1;32m    223\u001B[0m             \u001B[0;31m# (psi4 won't take over active space information otherwise)\u001B[0m\u001B[0;34m\u001B[0m\u001B[0;34m\u001B[0m\u001B[0;34m\u001B[0m\u001B[0m\n",
      "\u001B[0;32m~/Documents/PhD/CDLQuantum/tequila/src/tequila/quantumchemistry/psi4_interface.py\u001B[0m in \u001B[0;36m_make_psi4_active_space_data\u001B[0;34m(self, active_orbitals, reference)\u001B[0m\n\u001B[1;32m    102\u001B[0m         \u001B[0mactive_idx\u001B[0m \u001B[0;34m=\u001B[0m \u001B[0mactive_orbitals\u001B[0m\u001B[0;34m\u001B[0m\u001B[0;34m\u001B[0m\u001B[0m\n\u001B[1;32m    103\u001B[0m         \u001B[0mref_idx\u001B[0m \u001B[0;34m=\u001B[0m \u001B[0mreference\u001B[0m\u001B[0;34m\u001B[0m\u001B[0;34m\u001B[0m\u001B[0m\n\u001B[0;32m--> 104\u001B[0;31m         \u001B[0;32mif\u001B[0m \u001B[0misinstance\u001B[0m\u001B[0;34m(\u001B[0m\u001B[0mactive_orbitals\u001B[0m\u001B[0;34m,\u001B[0m \u001B[0mdict\u001B[0m\u001B[0;34m)\u001B[0m\u001B[0;34m:\u001B[0m\u001B[0;34m\u001B[0m\u001B[0;34m\u001B[0m\u001B[0m\n\u001B[0m\u001B[1;32m    105\u001B[0m             \u001B[0mactive_idx\u001B[0m \u001B[0;34m=\u001B[0m \u001B[0;34m[\u001B[0m\u001B[0;34m]\u001B[0m\u001B[0;34m\u001B[0m\u001B[0;34m\u001B[0m\u001B[0m\n\u001B[1;32m    106\u001B[0m             \u001B[0mfrozen_uocc\u001B[0m \u001B[0;34m=\u001B[0m \u001B[0;34m{\u001B[0m\u001B[0;34m}\u001B[0m\u001B[0;34m\u001B[0m\u001B[0;34m\u001B[0m\u001B[0m\n",
      "\u001B[0;32m~/Documents/PhD/CDLQuantum/tequila/src/tequila/quantumchemistry/psi4_interface.py\u001B[0m in \u001B[0;36m_make_psi4_active_space_data\u001B[0;34m(self, active_orbitals, reference)\u001B[0m\n\u001B[1;32m    102\u001B[0m         \u001B[0mactive_idx\u001B[0m \u001B[0;34m=\u001B[0m \u001B[0mactive_orbitals\u001B[0m\u001B[0;34m\u001B[0m\u001B[0;34m\u001B[0m\u001B[0m\n\u001B[1;32m    103\u001B[0m         \u001B[0mref_idx\u001B[0m \u001B[0;34m=\u001B[0m \u001B[0mreference\u001B[0m\u001B[0;34m\u001B[0m\u001B[0;34m\u001B[0m\u001B[0m\n\u001B[0;32m--> 104\u001B[0;31m         \u001B[0;32mif\u001B[0m \u001B[0misinstance\u001B[0m\u001B[0;34m(\u001B[0m\u001B[0mactive_orbitals\u001B[0m\u001B[0;34m,\u001B[0m \u001B[0mdict\u001B[0m\u001B[0;34m)\u001B[0m\u001B[0;34m:\u001B[0m\u001B[0;34m\u001B[0m\u001B[0;34m\u001B[0m\u001B[0m\n\u001B[0m\u001B[1;32m    105\u001B[0m             \u001B[0mactive_idx\u001B[0m \u001B[0;34m=\u001B[0m \u001B[0;34m[\u001B[0m\u001B[0;34m]\u001B[0m\u001B[0;34m\u001B[0m\u001B[0;34m\u001B[0m\u001B[0m\n\u001B[1;32m    106\u001B[0m             \u001B[0mfrozen_uocc\u001B[0m \u001B[0;34m=\u001B[0m \u001B[0;34m{\u001B[0m\u001B[0;34m}\u001B[0m\u001B[0;34m\u001B[0m\u001B[0;34m\u001B[0m\u001B[0m\n",
      "\u001B[0;32m~/.local/share/JetBrains/Toolbox/apps/PyCharm-P/ch-0/201.7223.69/plugins/python/helpers/pydev/_pydevd_bundle/pydevd_frame.py\u001B[0m in \u001B[0;36mtrace_dispatch\u001B[0;34m(self, frame, event, arg)\u001B[0m\n\u001B[1;32m    719\u001B[0m                 \u001B[0;31m# if thread has a suspend flag, we suspend with a busy wait\u001B[0m\u001B[0;34m\u001B[0m\u001B[0;34m\u001B[0m\u001B[0;34m\u001B[0m\u001B[0m\n\u001B[1;32m    720\u001B[0m                 \u001B[0;32mif\u001B[0m \u001B[0minfo\u001B[0m\u001B[0;34m.\u001B[0m\u001B[0mpydev_state\u001B[0m \u001B[0;34m==\u001B[0m \u001B[0mSTATE_SUSPEND\u001B[0m\u001B[0;34m:\u001B[0m\u001B[0;34m\u001B[0m\u001B[0;34m\u001B[0m\u001B[0m\n\u001B[0;32m--> 721\u001B[0;31m                     \u001B[0mself\u001B[0m\u001B[0;34m.\u001B[0m\u001B[0mdo_wait_suspend\u001B[0m\u001B[0;34m(\u001B[0m\u001B[0mthread\u001B[0m\u001B[0;34m,\u001B[0m \u001B[0mframe\u001B[0m\u001B[0;34m,\u001B[0m \u001B[0mevent\u001B[0m\u001B[0;34m,\u001B[0m \u001B[0marg\u001B[0m\u001B[0;34m)\u001B[0m\u001B[0;34m\u001B[0m\u001B[0;34m\u001B[0m\u001B[0m\n\u001B[0m\u001B[1;32m    722\u001B[0m                     \u001B[0;31m# No need to reset frame.f_trace to keep the same trace function.\u001B[0m\u001B[0;34m\u001B[0m\u001B[0;34m\u001B[0m\u001B[0;34m\u001B[0m\u001B[0m\n\u001B[1;32m    723\u001B[0m                     \u001B[0;32mreturn\u001B[0m \u001B[0mself\u001B[0m\u001B[0;34m.\u001B[0m\u001B[0mtrace_dispatch\u001B[0m\u001B[0;34m\u001B[0m\u001B[0;34m\u001B[0m\u001B[0m\n",
      "\u001B[0;32m~/.local/share/JetBrains/Toolbox/apps/PyCharm-P/ch-0/201.7223.69/plugins/python/helpers/pydev/_pydevd_bundle/pydevd_frame.py\u001B[0m in \u001B[0;36mdo_wait_suspend\u001B[0;34m(self, *args, **kwargs)\u001B[0m\n\u001B[1;32m    142\u001B[0m \u001B[0;34m\u001B[0m\u001B[0m\n\u001B[1;32m    143\u001B[0m     \u001B[0;32mdef\u001B[0m \u001B[0mdo_wait_suspend\u001B[0m\u001B[0;34m(\u001B[0m\u001B[0mself\u001B[0m\u001B[0;34m,\u001B[0m \u001B[0;34m*\u001B[0m\u001B[0margs\u001B[0m\u001B[0;34m,\u001B[0m \u001B[0;34m**\u001B[0m\u001B[0mkwargs\u001B[0m\u001B[0;34m)\u001B[0m\u001B[0;34m:\u001B[0m\u001B[0;34m\u001B[0m\u001B[0;34m\u001B[0m\u001B[0m\n\u001B[0;32m--> 144\u001B[0;31m         \u001B[0mself\u001B[0m\u001B[0;34m.\u001B[0m\u001B[0m_args\u001B[0m\u001B[0;34m[\u001B[0m\u001B[0;36m0\u001B[0m\u001B[0;34m]\u001B[0m\u001B[0;34m.\u001B[0m\u001B[0mdo_wait_suspend\u001B[0m\u001B[0;34m(\u001B[0m\u001B[0;34m*\u001B[0m\u001B[0margs\u001B[0m\u001B[0;34m,\u001B[0m \u001B[0;34m**\u001B[0m\u001B[0mkwargs\u001B[0m\u001B[0;34m)\u001B[0m\u001B[0;34m\u001B[0m\u001B[0;34m\u001B[0m\u001B[0m\n\u001B[0m\u001B[1;32m    145\u001B[0m \u001B[0;34m\u001B[0m\u001B[0m\n\u001B[1;32m    146\u001B[0m     \u001B[0;31m# IFDEF CYTHON\u001B[0m\u001B[0;34m\u001B[0m\u001B[0;34m\u001B[0m\u001B[0;34m\u001B[0m\u001B[0m\n",
      "\u001B[0;32m~/.local/share/JetBrains/Toolbox/apps/PyCharm-P/ch-0/201.7223.69/plugins/python/helpers/pydev/pydevd.py\u001B[0m in \u001B[0;36mdo_wait_suspend\u001B[0;34m(self, thread, frame, event, arg, send_suspend_message, is_unhandled_exception)\u001B[0m\n\u001B[1;32m   1101\u001B[0m \u001B[0;34m\u001B[0m\u001B[0m\n\u001B[1;32m   1102\u001B[0m         \u001B[0;32mwith\u001B[0m \u001B[0mself\u001B[0m\u001B[0;34m.\u001B[0m\u001B[0m_threads_suspended_single_notification\u001B[0m\u001B[0;34m.\u001B[0m\u001B[0mnotify_thread_suspended\u001B[0m\u001B[0;34m(\u001B[0m\u001B[0mthread_id\u001B[0m\u001B[0;34m,\u001B[0m \u001B[0mstop_reason\u001B[0m\u001B[0;34m)\u001B[0m\u001B[0;34m:\u001B[0m\u001B[0;34m\u001B[0m\u001B[0;34m\u001B[0m\u001B[0m\n\u001B[0;32m-> 1103\u001B[0;31m             \u001B[0mself\u001B[0m\u001B[0;34m.\u001B[0m\u001B[0m_do_wait_suspend\u001B[0m\u001B[0;34m(\u001B[0m\u001B[0mthread\u001B[0m\u001B[0;34m,\u001B[0m \u001B[0mframe\u001B[0m\u001B[0;34m,\u001B[0m \u001B[0mevent\u001B[0m\u001B[0;34m,\u001B[0m \u001B[0marg\u001B[0m\u001B[0;34m,\u001B[0m \u001B[0msuspend_type\u001B[0m\u001B[0;34m,\u001B[0m \u001B[0mfrom_this_thread\u001B[0m\u001B[0;34m)\u001B[0m\u001B[0;34m\u001B[0m\u001B[0;34m\u001B[0m\u001B[0m\n\u001B[0m\u001B[1;32m   1104\u001B[0m \u001B[0;34m\u001B[0m\u001B[0m\n\u001B[1;32m   1105\u001B[0m     \u001B[0;32mdef\u001B[0m \u001B[0m_do_wait_suspend\u001B[0m\u001B[0;34m(\u001B[0m\u001B[0mself\u001B[0m\u001B[0;34m,\u001B[0m \u001B[0mthread\u001B[0m\u001B[0;34m,\u001B[0m \u001B[0mframe\u001B[0m\u001B[0;34m,\u001B[0m \u001B[0mevent\u001B[0m\u001B[0;34m,\u001B[0m \u001B[0marg\u001B[0m\u001B[0;34m,\u001B[0m \u001B[0msuspend_type\u001B[0m\u001B[0;34m,\u001B[0m \u001B[0mfrom_this_thread\u001B[0m\u001B[0;34m)\u001B[0m\u001B[0;34m:\u001B[0m\u001B[0;34m\u001B[0m\u001B[0;34m\u001B[0m\u001B[0m\n",
      "\u001B[0;32m~/.local/share/JetBrains/Toolbox/apps/PyCharm-P/ch-0/201.7223.69/plugins/python/helpers/pydev/pydevd.py\u001B[0m in \u001B[0;36m_do_wait_suspend\u001B[0;34m(self, thread, frame, event, arg, suspend_type, from_this_thread)\u001B[0m\n\u001B[1;32m   1116\u001B[0m \u001B[0;34m\u001B[0m\u001B[0m\n\u001B[1;32m   1117\u001B[0m                 \u001B[0mself\u001B[0m\u001B[0;34m.\u001B[0m\u001B[0mprocess_internal_commands\u001B[0m\u001B[0;34m(\u001B[0m\u001B[0;34m)\u001B[0m\u001B[0;34m\u001B[0m\u001B[0;34m\u001B[0m\u001B[0m\n\u001B[0;32m-> 1118\u001B[0;31m                 \u001B[0mtime\u001B[0m\u001B[0;34m.\u001B[0m\u001B[0msleep\u001B[0m\u001B[0;34m(\u001B[0m\u001B[0;36m0.01\u001B[0m\u001B[0;34m)\u001B[0m\u001B[0;34m\u001B[0m\u001B[0;34m\u001B[0m\u001B[0m\n\u001B[0m\u001B[1;32m   1119\u001B[0m \u001B[0;34m\u001B[0m\u001B[0m\n\u001B[1;32m   1120\u001B[0m         \u001B[0mself\u001B[0m\u001B[0;34m.\u001B[0m\u001B[0mcancel_async_evaluation\u001B[0m\u001B[0;34m(\u001B[0m\u001B[0mget_current_thread_id\u001B[0m\u001B[0;34m(\u001B[0m\u001B[0mthread\u001B[0m\u001B[0;34m)\u001B[0m\u001B[0;34m,\u001B[0m \u001B[0mstr\u001B[0m\u001B[0;34m(\u001B[0m\u001B[0mid\u001B[0m\u001B[0;34m(\u001B[0m\u001B[0mframe\u001B[0m\u001B[0;34m)\u001B[0m\u001B[0;34m)\u001B[0m\u001B[0;34m)\u001B[0m\u001B[0;34m\u001B[0m\u001B[0;34m\u001B[0m\u001B[0m\n",
      "\u001B[0;31mKeyboardInterrupt\u001B[0m: "
     ]
    }
   ],
   "source": [
    "xyz_data = get_molecular_data('h2o', geometry=1, xyz_format=True)\n",
    "\n",
    "basis = '6-31g'\n",
    "active = {'B1':[0,1], 'A1':[2,3]}\n",
    "h2o = tq.quantumchemistry.Molecule(geometry=xyz_data, basis_set = basis, active_orbitals = active)\n",
    "\n",
    "print('Number of spin-orbitals (qubits): {} \\n'.format(2*h2o.n_orbitals))\n",
    "\n",
    "E_FCI = h2o.compute_energy(method='fci')\n",
    "\n",
    "print('FCI energy: {}'.format(E_FCI))"
   ]
  },
  {
   "cell_type": "markdown",
   "metadata": {},
   "source": [
    "We will then run the UCCSD VQE simulation (***warning: tq.minimize will take several minutes - 1 hour + to converge for a VQE instance of this size.*** Smaller active spaces can be employed to lower VQE simulation runtimes)."
   ]
  },
  {
   "cell_type": "code",
   "execution_count": 6,
   "metadata": {},
   "outputs": [
    {
     "name": "stdout",
     "output_type": "stream",
     "text": [
      "\n",
      "Hamiltonian has 185 terms\n",
      "\n",
      "\n",
      "Number of UCCSD amplitudes: 8 \n",
      "\n",
      "\n",
      "Starting optimization:\n",
      "\n",
      "Optimizer: <class 'tequila.optimizers.optimizer_scipy.OptimizerSciPy'> \n",
      "backend         : qulacs\n",
      "samples         : None\n",
      "save_history    : True\n",
      "noise           : None\n",
      "\n",
      "Method          : BFGS\n",
      "Objective       : 1 expectationvalues\n",
      "gradient        : 512 expectationvalues\n",
      "\n",
      "active variables : 8\n",
      "\n",
      "E=-75.98071144  angles= {(3, 0, 3, 0): 0.0, (3, 1, 2, 0): 0.0, (2, 1, 2, 1): 0.0, (2, 0, 3, 1): 0.0, (3, 1, 3, 1): 0.0, (3, 0, 2, 1): 0.0, (2, 0, 2, 0): 0.0, (2, 1, 3, 0): 0.0}  samples= None\n",
      "E=-75.57991345  angles= {(3, 0, 3, 0): -0.1516876220703125, (3, 1, 2, 0): -0.04468536376953125, (2, 1, 2, 1): -0.06198883056640625, (2, 0, 3, 1): -0.04468536376953125, (3, 1, 3, 1): -0.0497894287109375, (3, 0, 2, 1): 0.15348052978515625, (2, 0, 2, 0): -0.06015777587890625, (2, 1, 3, 0): 0.15348052978515625}  samples= None\n",
      "E=-75.98420833  angles= {(3, 0, 3, 0): -0.012046029637663564, (3, 1, 2, 0): -0.0035486166174326273, (2, 1, 2, 1): -0.00492274372829778, (2, 0, 3, 1): -0.0035486166174326273, (3, 1, 3, 1): -0.0039539477625687765, (3, 0, 2, 1): 0.012188410533189715, (2, 0, 2, 0): -0.004777333452015753, (2, 1, 3, 0): 0.012188410533189715}  samples= None\n",
      "E=-75.98880361  angles= {(3, 0, 3, 0): -0.039607274937813394, (3, 1, 2, 0): 0.009664049347400052, (2, 1, 2, 1): -0.01611856729071439, (2, 0, 3, 1): 0.009664876187268795, (3, 1, 3, 1): -0.013775130529728032, (3, 0, 2, 1): 0.019413392254350063, (2, 0, 2, 0): -0.016525414860953484, (2, 1, 3, 0): 0.019412565414481317}  samples= None\n",
      "E=-75.98917687  angles= {(3, 0, 3, 0): -0.04313447924880115, (3, 1, 2, 0): 0.020925250209714988, (2, 1, 2, 1): -0.028345637803271297, (2, 0, 3, 1): 0.020932405095403207, (3, 1, 3, 1): -0.018000577328262227, (3, 0, 2, 1): 0.028608799105833284, (2, 0, 2, 0): -0.020678032509751608, (2, 1, 3, 0): 0.028607099905116097}  samples= None\n",
      "E=-75.98923495  angles= {(3, 0, 3, 0): -0.05503763509590611, (3, 1, 2, 0): 0.01637575368187126, (2, 1, 2, 1): -0.024310668835221858, (2, 0, 3, 1): 0.016374771162217007, (3, 1, 3, 1): -0.018717908664855027, (3, 0, 2, 1): 0.023605105343416817, (2, 0, 2, 0): -0.023353667931716938, (2, 1, 3, 0): 0.023596239258046246}  samples= None\n",
      "E=-75.98930759  angles= {(3, 0, 3, 0): -0.050333560416298134, (3, 1, 2, 0): 0.01701943313758751, (2, 1, 2, 1): -0.02345496764571205, (2, 0, 3, 1): 0.0170164761299085, (3, 1, 3, 1): -0.01821521169867894, (3, 0, 2, 1): 0.024653830502728652, (2, 0, 2, 0): -0.02170399065065559, (2, 1, 3, 0): 0.024640561409036622}  samples= None\n",
      "E=-75.98931144  angles= {(3, 0, 3, 0): -0.04827327554088599, (3, 1, 2, 0): 0.017048578040927038, (2, 1, 2, 1): -0.02522529982957582, (2, 0, 3, 1): 0.017042928998340454, (3, 1, 3, 1): -0.017860991800830107, (3, 0, 2, 1): 0.024795529347977574, (2, 0, 2, 0): -0.021685334712454662, (2, 1, 3, 0): 0.024776303358426763}  samples= None\n",
      "E=-75.98931284  angles= {(3, 0, 3, 0): -0.04855248662657025, (3, 1, 2, 0): 0.017427136225986996, (2, 1, 2, 1): -0.023928713933689293, (2, 0, 3, 1): 0.01741970346611869, (3, 1, 3, 1): -0.01779579494177354, (3, 0, 2, 1): 0.025172020937202652, (2, 0, 2, 0): -0.021124932052007734, (2, 1, 3, 0): 0.025150381198394123}  samples= None\n",
      "E=-75.98931318  angles= {(3, 0, 3, 0): -0.0486510299964938, (3, 1, 2, 0): 0.017242397684018262, (2, 1, 2, 1): -0.024097016500177714, (2, 0, 3, 1): 0.017227005408149164, (3, 1, 3, 1): -0.018124262040586987, (3, 0, 2, 1): 0.024979450744388343, (2, 0, 2, 0): -0.021467591264024418, (2, 1, 3, 0): 0.02495274797670851}  samples= None\n",
      "E=-75.98931321  angles= {(3, 0, 3, 0): -0.048705621006111074, (3, 1, 2, 0): 0.01724275669848141, (2, 1, 2, 1): -0.024266987160761748, (2, 0, 3, 1): 0.01722473838534435, (3, 1, 3, 1): -0.017828336034679676, (3, 0, 2, 1): 0.024973748629825324, (2, 0, 2, 0): -0.021390027131985272, (2, 1, 3, 0): 0.02494482406129519}  samples= None\n",
      "E=-75.98931324  angles= {(3, 0, 3, 0): -0.0486627991275548, (3, 1, 2, 0): 0.01726339898346064, (2, 1, 2, 1): -0.02420737370202691, (2, 0, 3, 1): 0.017238635664403215, (3, 1, 3, 1): -0.017924549826844226, (3, 0, 2, 1): 0.024997817807972878, (2, 0, 2, 0): -0.021376767859513573, (2, 1, 3, 0): 0.024962053922940295}  samples= None\n",
      "Optimization terminated successfully.\n",
      "         Current function value: -75.989313\n",
      "         Iterations: 10\n",
      "         Function evaluations: 12\n",
      "         Gradient evaluations: 12\n",
      "\n",
      "Obtained UCCSD energy: -75.98931323507796\n"
     ]
    }
   ],
   "source": [
    "H = h2o.make_hamiltonian()\n",
    "\n",
    "print(\"\\nHamiltonian has {} terms\\n\".format(len(H)))\n",
    "\n",
    "U_UCCSD = h2o.make_uccsd_ansatz(initial_amplitudes='MP2',threshold=threshold, trotter_steps=trotter_steps)\n",
    "\n",
    "E = tq.ExpectationValue(H=H, U=U_UCCSD)\n",
    "\n",
    "print('\\nNumber of UCCSD amplitudes: {} \\n'.format(len(E.extract_variables())))\n",
    "\n",
    "print('\\nStarting optimization:\\n')\n",
    "\n",
    "result = tq.minimize(objective=E, method=\"BFGS\", initial_values={k:0.0 for k in E.extract_variables()}, tol=1e-4)\n",
    "\n",
    "print('\\nObtained UCCSD energy: {}'.format(result.energy))"
   ]
  },
  {
   "cell_type": "markdown",
   "metadata": {},
   "source": [
    "We obtain a UCCSD energy within chemical accuracy (< 1.6 miliHartree from FCI energy) for the H$_2$O molecule near equilibrium geometry. As the bond distance approaches the dissociation limit, the energy deviation from FCI is typically expected to increase as electronic correlations increase during covalent bond-breaking. Furthermore, as HF becomes energetically more distant from the FCI wavefunction, the initial guess of all amplitudes being zero may lead to a local minimum. One can then instead initialize the amplitudes using random guesses, and repeat for $n$ samples to attempt to find the global minimum. To facilitate this, one can run the commented lines below. This will execute $n$ instances of tq.minimize for uniformly random initial parameters in interval $[0, 2\\pi]$ and return the lowest optimization result."
   ]
  },
  {
   "cell_type": "code",
   "execution_count": null,
   "metadata": {},
   "outputs": [],
   "source": [
    "#n=10\n",
    "#result = minimize_E_random_guesses(objective=E, method='BFGS', tol=1e-4, n=n)"
   ]
  },
  {
   "cell_type": "markdown",
   "metadata": {},
   "source": [
    "## Qubit Coupled Cluster (QCC)\n",
    "\n",
    "In contrast to UCC, the QCC methodology makes no direct reference to fermionic algebra and seeks to construct an efficient ansatz directly in qubit-space by finding multi-qubit Pauli strings (entanglers) which lower energy. This is done through an energy-lowering heuristic employing the energy gradient with respect to a Pauli strings variational amplitude. As opposed to UCCSD, the circuit depth and number of parameter is chosen to meet hardware limitations, i.e. one must choose how many exponentiated Pauli strings will be entering the QCC ansatz.\n",
    "\n",
    "### H2 in STO-3G basis\n",
    "\n",
    "Below we perform the entangler screening protocol for H2 in minimal basis, and obtain one grouping of entanglers with non-zero energy gradient. We then select one of them to be used in the QCC VQE simulation."
   ]
  },
  {
   "cell_type": "code",
   "execution_count": 7,
   "metadata": {},
   "outputs": [
    {
     "name": "stdout",
     "output_type": "stream",
     "text": [
      "\n",
      "Hamiltonian has 15 terms\n",
      "\n",
      "Grouping gradient magnitudes (Grouping : Gradient magnitude):\n",
      "1 : 0.2822\n",
      "\n",
      "Selected entanglers:\n",
      "1.0 [X0 Y1 X2 X3]\n"
     ]
    }
   ],
   "source": [
    "xyz_data = get_molecular_data('h2', geometry=2.5, xyz_format=True)\n",
    "basis='6-31g'\n",
    "\n",
    "h2 = tq.quantumchemistry.Molecule(geometry=xyz_data, basis_set='sto-3g')\n",
    "\n",
    "hf_reference = hf_occ(2*h2.n_orbitals, h2.n_electrons)\n",
    "\n",
    "H = h2.make_hamiltonian()\n",
    "\n",
    "print(\"\\nHamiltonian has {} terms\\n\".format(len(H)))\n",
    "\n",
    "#Define number of entanglers to enter ansatz\n",
    "n_ents = 1\n",
    "\n",
    "#Rank entanglers using energy gradient criterion\n",
    "ranked_entangler_groupings = generate_QCC_gradient_groupings(H.to_openfermion(), \n",
    "                                                             2*h2.n_orbitals, \n",
    "                                                             hf_reference, \n",
    "                                                             cutoff=threshold)\n",
    "\n",
    "print('Grouping gradient magnitudes (Grouping : Gradient magnitude):')\n",
    "for i in range(len(ranked_entangler_groupings)):\n",
    "    print('{} : {}'.format(i+1,ranked_entangler_groupings[i][1]))\n",
    "\n",
    "\n",
    "entanglers = get_QCC_entanglers(ranked_entangler_groupings, n_ents, 2*h2.n_orbitals)\n",
    "\n",
    "print('\\nSelected entanglers:')\n",
    "for ent in entanglers:\n",
    "    print(ent)\n",
    "\n"
   ]
  },
  {
   "cell_type": "markdown",
   "metadata": {},
   "source": [
    "Once the QCC ranking procedure has been ran, we can simulate the QCC VQE optimization with the generated entanglers. The VQE optimization for the QCC ansatz is of the form\n",
    "$$E = \\min_{\\boldsymbol{\\Omega}, \\boldsymbol{\\tau}} \\langle \\boldsymbol{\\Omega} | U_{\\text{ENT}}^\\dagger (\\boldsymbol{\\tau}) \\hat H  U_{\\text{ENT}} (\\boldsymbol{\\tau}) | \\boldsymbol{\\Omega} \\rangle $$\n",
    "where $\\boldsymbol{\\Omega}$ denote collective Euler angles parameterizing single-qubit rotations, and $\\boldsymbol{\\tau}$ are entangler amplitudes. "
   ]
  },
  {
   "cell_type": "code",
   "execution_count": 17,
   "metadata": {},
   "outputs": [
    {
     "name": "stdout",
     "output_type": "stream",
     "text": [
      "Optimizer: <class 'tequila.optimizers.optimizer_scipy.OptimizerSciPy'> \n",
      "backend         : qulacs\n",
      "samples         : None\n",
      "save_history    : True\n",
      "noise           : None\n",
      "\n",
      "Method          : BFGS\n",
      "Objective       : 1 expectationvalues\n",
      "gradient        : 18 expectationvalues\n",
      "\n",
      "active variables : 9\n",
      "\n",
      "E=-0.70294360  angles= {gamma_3: 0.0, beta_1: 3.141592653589793, gamma_0: 0.0, tau_0: 0.0, gamma_2: 0.0, gamma_1: 0.0, beta_2: 0.0, beta_0: 3.141592653589793, beta_3: 0.0}  samples= None\n",
      "E=-0.77938639  angles= {gamma_3: 0.0, beta_1: 3.141592653589793, gamma_0: 0.0, tau_0: 0.2822100520133972, gamma_2: 0.0, gamma_1: 0.0, beta_2: 0.0, beta_0: 3.141592653589793, beta_3: 0.0}  samples= None\n",
      "E=-0.93592356  angles= {gamma_3: 0.0, beta_1: 3.141592653589793, gamma_0: 0.0, tau_0: 1.411050260066986, gamma_2: 0.0, gamma_1: 0.0, beta_2: 0.0, beta_0: 3.141592653589793, beta_3: 0.0}  samples= None\n",
      "E=-0.93603455  angles= {gamma_3: 0.0, beta_1: 3.141592653589793, gamma_0: 0.0, tau_0: 1.3689076316049542, gamma_2: 0.0, gamma_1: 0.0, beta_2: 0.0, beta_0: 3.141592653589793, beta_3: 0.0}  samples= None\n",
      "E=-0.93605492  angles= {gamma_3: 0.0, beta_1: 3.141592653589793, gamma_0: 0.0, tau_0: 1.380815153240581, gamma_2: 0.0, gamma_1: 0.0, beta_2: 0.0, beta_0: 3.141592653589793, beta_3: 0.0}  samples= None\n",
      "Optimization terminated successfully.\n",
      "         Current function value: -0.936055\n",
      "         Iterations: 3\n",
      "         Function evaluations: 5\n",
      "         Gradient evaluations: 5\n",
      "\n",
      "Obtained QCC energy (1 entanglers): -0.9360549199434915\n"
     ]
    }
   ],
   "source": [
    "#Mean-field part of U (Omega):    \n",
    "U_MF = construct_QMF_ansatz(n_qubits = 2*h2.n_orbitals)\n",
    "#Entangling part of U:\n",
    "U_ENT = construct_QCC_ansatz(entanglers)\n",
    "\n",
    "U_QCC = U_MF + U_ENT\n",
    "\n",
    "E = tq.ExpectationValue(H=H, U=U_QCC)\n",
    "\n",
    "initial_vals = init_qcc_params(hf_reference, E.extract_variables())\n",
    "\n",
    "#Minimize wrt the entangler amplitude and MF angles:\n",
    "result = tq.minimize(objective=E, method=\"BFGS\", initial_values=initial_vals, tol=threshold)\n",
    "\n",
    "print('\\nObtained QCC energy ({} entanglers): {}'.format(len(entanglers), result.energy))"
   ]
  },
  {
   "cell_type": "markdown",
   "metadata": {},
   "source": [
    "We see that the QCC energy converged to the FCI energy with only a single entangler! \n",
    "\n",
    "### H2O in 6-31G basis\n",
    "\n",
    "Let us move on to the problem of H$_2$O in 6-31G basis using the same active space as the UCCSD example."
   ]
  },
  {
   "cell_type": "code",
   "execution_count": 4,
   "metadata": {},
   "outputs": [
    {
     "ename": "KeyboardInterrupt",
     "evalue": "",
     "output_type": "error",
     "traceback": [
      "\u001B[0;31m---------------------------------------------------------------------------\u001B[0m",
      "\u001B[0;31mKeyboardInterrupt\u001B[0m                         Traceback (most recent call last)",
      "\u001B[0;32m<ipython-input-4-59022c0d6d48>\u001B[0m in \u001B[0;36m<module>\u001B[0;34m\u001B[0m\n\u001B[1;32m      4\u001B[0m \u001B[0mbasis\u001B[0m \u001B[0;34m=\u001B[0m \u001B[0;34m'6-31g'\u001B[0m\u001B[0;34m\u001B[0m\u001B[0;34m\u001B[0m\u001B[0m\n\u001B[1;32m      5\u001B[0m \u001B[0mactive\u001B[0m \u001B[0;34m=\u001B[0m \u001B[0;34m{\u001B[0m\u001B[0;34m'B1'\u001B[0m\u001B[0;34m:\u001B[0m\u001B[0;34m[\u001B[0m\u001B[0;36m0\u001B[0m\u001B[0;34m,\u001B[0m\u001B[0;36m1\u001B[0m\u001B[0;34m]\u001B[0m\u001B[0;34m,\u001B[0m \u001B[0;34m'A1'\u001B[0m\u001B[0;34m:\u001B[0m\u001B[0;34m[\u001B[0m\u001B[0;36m2\u001B[0m\u001B[0;34m,\u001B[0m\u001B[0;36m3\u001B[0m\u001B[0;34m]\u001B[0m\u001B[0;34m}\u001B[0m\u001B[0;34m\u001B[0m\u001B[0;34m\u001B[0m\u001B[0m\n\u001B[0;32m----> 6\u001B[0;31m \u001B[0mh2o\u001B[0m \u001B[0;34m=\u001B[0m \u001B[0mtq\u001B[0m\u001B[0;34m.\u001B[0m\u001B[0mquantumchemistry\u001B[0m\u001B[0;34m.\u001B[0m\u001B[0mMolecule\u001B[0m\u001B[0;34m(\u001B[0m\u001B[0mgeometry\u001B[0m\u001B[0;34m=\u001B[0m\u001B[0mxyz_data\u001B[0m\u001B[0;34m,\u001B[0m \u001B[0mbasis_set\u001B[0m \u001B[0;34m=\u001B[0m \u001B[0mbasis\u001B[0m\u001B[0;34m,\u001B[0m \u001B[0mactive_orbitals\u001B[0m \u001B[0;34m=\u001B[0m \u001B[0mactive\u001B[0m\u001B[0;34m)\u001B[0m\u001B[0;34m\u001B[0m\u001B[0;34m\u001B[0m\u001B[0m\n\u001B[0m\u001B[1;32m      7\u001B[0m \u001B[0mhf_reference\u001B[0m \u001B[0;34m=\u001B[0m \u001B[0mhf_occ\u001B[0m\u001B[0;34m(\u001B[0m\u001B[0;36m2\u001B[0m\u001B[0;34m*\u001B[0m\u001B[0mh2o\u001B[0m\u001B[0;34m.\u001B[0m\u001B[0mn_orbitals\u001B[0m\u001B[0;34m,\u001B[0m \u001B[0mh2o\u001B[0m\u001B[0;34m.\u001B[0m\u001B[0mn_electrons\u001B[0m\u001B[0;34m)\u001B[0m\u001B[0;34m\u001B[0m\u001B[0;34m\u001B[0m\u001B[0m\n\u001B[1;32m      8\u001B[0m \u001B[0;34m\u001B[0m\u001B[0m\n",
      "\u001B[0;32m~/Documents/PhD/CDLQuantum/tequila/src/tequila/quantumchemistry/__init__.py\u001B[0m in \u001B[0;36mMolecule\u001B[0;34m(geometry, basis_set, transformation, backend, guess_wfn, *args, **kwargs)\u001B[0m\n\u001B[1;32m     81\u001B[0m         \u001B[0;32mraise\u001B[0m \u001B[0mException\u001B[0m\u001B[0;34m(\u001B[0m\u001B[0;34m\"guess_wfn only works for psi4\"\u001B[0m\u001B[0;34m)\u001B[0m\u001B[0;34m\u001B[0m\u001B[0;34m\u001B[0m\u001B[0m\n\u001B[1;32m     82\u001B[0m \u001B[0;34m\u001B[0m\u001B[0m\n\u001B[0;32m---> 83\u001B[0;31m     \u001B[0;32mreturn\u001B[0m \u001B[0mINSTALLED_QCHEMISTRY_BACKENDS\u001B[0m\u001B[0;34m[\u001B[0m\u001B[0mbackend\u001B[0m\u001B[0;34m.\u001B[0m\u001B[0mlower\u001B[0m\u001B[0;34m(\u001B[0m\u001B[0;34m)\u001B[0m\u001B[0;34m]\u001B[0m\u001B[0;34m(\u001B[0m\u001B[0mparameters\u001B[0m\u001B[0;34m=\u001B[0m\u001B[0mparameters\u001B[0m\u001B[0;34m,\u001B[0m \u001B[0mtransformation\u001B[0m\u001B[0;34m=\u001B[0m\u001B[0mtransformation\u001B[0m\u001B[0;34m,\u001B[0m \u001B[0mguess_wfn\u001B[0m\u001B[0;34m=\u001B[0m\u001B[0mguess_wfn\u001B[0m\u001B[0;34m,\u001B[0m \u001B[0;34m*\u001B[0m\u001B[0margs\u001B[0m\u001B[0;34m,\u001B[0m \u001B[0;34m**\u001B[0m\u001B[0mkwargs\u001B[0m\u001B[0;34m)\u001B[0m\u001B[0;34m\u001B[0m\u001B[0;34m\u001B[0m\u001B[0m\n\u001B[0m\u001B[1;32m     84\u001B[0m \u001B[0;34m\u001B[0m\u001B[0m\n\u001B[1;32m     85\u001B[0m \u001B[0;34m\u001B[0m\u001B[0m\n",
      "\u001B[0;32m~/Documents/PhD/CDLQuantum/tequila/src/tequila/quantumchemistry/psi4_interface.py\u001B[0m in \u001B[0;36m__init__\u001B[0;34m(self, parameters, transformation, active_orbitals, reference, *args, **kwargs)\u001B[0m\n\u001B[1;32m    219\u001B[0m \u001B[0;34m\u001B[0m\u001B[0m\n\u001B[1;32m    220\u001B[0m         \u001B[0;32mif\u001B[0m \u001B[0mactive_orbitals\u001B[0m \u001B[0;32mis\u001B[0m \u001B[0;32mnot\u001B[0m \u001B[0;32mNone\u001B[0m\u001B[0;34m:\u001B[0m\u001B[0;34m\u001B[0m\u001B[0;34m\u001B[0m\u001B[0m\n\u001B[0;32m--> 221\u001B[0;31m             \u001B[0mself\u001B[0m\u001B[0;34m.\u001B[0m\u001B[0mactive_space\u001B[0m \u001B[0;34m=\u001B[0m \u001B[0mself\u001B[0m\u001B[0;34m.\u001B[0m\u001B[0m_make_psi4_active_space_data\u001B[0m\u001B[0;34m(\u001B[0m\u001B[0mactive_orbitals\u001B[0m\u001B[0;34m=\u001B[0m\u001B[0mactive_orbitals\u001B[0m\u001B[0;34m,\u001B[0m \u001B[0mreference\u001B[0m\u001B[0;34m=\u001B[0m\u001B[0mreference\u001B[0m\u001B[0;34m)\u001B[0m\u001B[0;34m\u001B[0m\u001B[0;34m\u001B[0m\u001B[0m\n\u001B[0m\u001B[1;32m    222\u001B[0m             \u001B[0;31m# need to recompute\u001B[0m\u001B[0;34m\u001B[0m\u001B[0;34m\u001B[0m\u001B[0;34m\u001B[0m\u001B[0m\n\u001B[1;32m    223\u001B[0m             \u001B[0;31m# (psi4 won't take over active space information otherwise)\u001B[0m\u001B[0;34m\u001B[0m\u001B[0;34m\u001B[0m\u001B[0;34m\u001B[0m\u001B[0m\n",
      "\u001B[0;32m~/Documents/PhD/CDLQuantum/tequila/src/tequila/quantumchemistry/psi4_interface.py\u001B[0m in \u001B[0;36m_make_psi4_active_space_data\u001B[0;34m(self, active_orbitals, reference)\u001B[0m\n\u001B[1;32m    102\u001B[0m         \u001B[0mactive_idx\u001B[0m \u001B[0;34m=\u001B[0m \u001B[0mactive_orbitals\u001B[0m\u001B[0;34m\u001B[0m\u001B[0;34m\u001B[0m\u001B[0m\n\u001B[1;32m    103\u001B[0m         \u001B[0mref_idx\u001B[0m \u001B[0;34m=\u001B[0m \u001B[0mreference\u001B[0m\u001B[0;34m\u001B[0m\u001B[0;34m\u001B[0m\u001B[0m\n\u001B[0;32m--> 104\u001B[0;31m         \u001B[0;32mif\u001B[0m \u001B[0misinstance\u001B[0m\u001B[0;34m(\u001B[0m\u001B[0mactive_orbitals\u001B[0m\u001B[0;34m,\u001B[0m \u001B[0mdict\u001B[0m\u001B[0;34m)\u001B[0m\u001B[0;34m:\u001B[0m\u001B[0;34m\u001B[0m\u001B[0;34m\u001B[0m\u001B[0m\n\u001B[0m\u001B[1;32m    105\u001B[0m             \u001B[0mactive_idx\u001B[0m \u001B[0;34m=\u001B[0m \u001B[0;34m[\u001B[0m\u001B[0;34m]\u001B[0m\u001B[0;34m\u001B[0m\u001B[0;34m\u001B[0m\u001B[0m\n\u001B[1;32m    106\u001B[0m             \u001B[0mfrozen_uocc\u001B[0m \u001B[0;34m=\u001B[0m \u001B[0;34m{\u001B[0m\u001B[0;34m}\u001B[0m\u001B[0;34m\u001B[0m\u001B[0;34m\u001B[0m\u001B[0m\n",
      "\u001B[0;32m~/Documents/PhD/CDLQuantum/tequila/src/tequila/quantumchemistry/psi4_interface.py\u001B[0m in \u001B[0;36m_make_psi4_active_space_data\u001B[0;34m(self, active_orbitals, reference)\u001B[0m\n\u001B[1;32m    102\u001B[0m         \u001B[0mactive_idx\u001B[0m \u001B[0;34m=\u001B[0m \u001B[0mactive_orbitals\u001B[0m\u001B[0;34m\u001B[0m\u001B[0;34m\u001B[0m\u001B[0m\n\u001B[1;32m    103\u001B[0m         \u001B[0mref_idx\u001B[0m \u001B[0;34m=\u001B[0m \u001B[0mreference\u001B[0m\u001B[0;34m\u001B[0m\u001B[0;34m\u001B[0m\u001B[0m\n\u001B[0;32m--> 104\u001B[0;31m         \u001B[0;32mif\u001B[0m \u001B[0misinstance\u001B[0m\u001B[0;34m(\u001B[0m\u001B[0mactive_orbitals\u001B[0m\u001B[0;34m,\u001B[0m \u001B[0mdict\u001B[0m\u001B[0;34m)\u001B[0m\u001B[0;34m:\u001B[0m\u001B[0;34m\u001B[0m\u001B[0;34m\u001B[0m\u001B[0m\n\u001B[0m\u001B[1;32m    105\u001B[0m             \u001B[0mactive_idx\u001B[0m \u001B[0;34m=\u001B[0m \u001B[0;34m[\u001B[0m\u001B[0;34m]\u001B[0m\u001B[0;34m\u001B[0m\u001B[0;34m\u001B[0m\u001B[0m\n\u001B[1;32m    106\u001B[0m             \u001B[0mfrozen_uocc\u001B[0m \u001B[0;34m=\u001B[0m \u001B[0;34m{\u001B[0m\u001B[0;34m}\u001B[0m\u001B[0;34m\u001B[0m\u001B[0;34m\u001B[0m\u001B[0m\n",
      "\u001B[0;32m~/.local/share/JetBrains/Toolbox/apps/PyCharm-P/ch-0/201.7223.69/plugins/python/helpers/pydev/_pydevd_bundle/pydevd_frame.py\u001B[0m in \u001B[0;36mtrace_dispatch\u001B[0;34m(self, frame, event, arg)\u001B[0m\n\u001B[1;32m    719\u001B[0m                 \u001B[0;31m# if thread has a suspend flag, we suspend with a busy wait\u001B[0m\u001B[0;34m\u001B[0m\u001B[0;34m\u001B[0m\u001B[0;34m\u001B[0m\u001B[0m\n\u001B[1;32m    720\u001B[0m                 \u001B[0;32mif\u001B[0m \u001B[0minfo\u001B[0m\u001B[0;34m.\u001B[0m\u001B[0mpydev_state\u001B[0m \u001B[0;34m==\u001B[0m \u001B[0mSTATE_SUSPEND\u001B[0m\u001B[0;34m:\u001B[0m\u001B[0;34m\u001B[0m\u001B[0;34m\u001B[0m\u001B[0m\n\u001B[0;32m--> 721\u001B[0;31m                     \u001B[0mself\u001B[0m\u001B[0;34m.\u001B[0m\u001B[0mdo_wait_suspend\u001B[0m\u001B[0;34m(\u001B[0m\u001B[0mthread\u001B[0m\u001B[0;34m,\u001B[0m \u001B[0mframe\u001B[0m\u001B[0;34m,\u001B[0m \u001B[0mevent\u001B[0m\u001B[0;34m,\u001B[0m \u001B[0marg\u001B[0m\u001B[0;34m)\u001B[0m\u001B[0;34m\u001B[0m\u001B[0;34m\u001B[0m\u001B[0m\n\u001B[0m\u001B[1;32m    722\u001B[0m                     \u001B[0;31m# No need to reset frame.f_trace to keep the same trace function.\u001B[0m\u001B[0;34m\u001B[0m\u001B[0;34m\u001B[0m\u001B[0;34m\u001B[0m\u001B[0m\n\u001B[1;32m    723\u001B[0m                     \u001B[0;32mreturn\u001B[0m \u001B[0mself\u001B[0m\u001B[0;34m.\u001B[0m\u001B[0mtrace_dispatch\u001B[0m\u001B[0;34m\u001B[0m\u001B[0;34m\u001B[0m\u001B[0m\n",
      "\u001B[0;32m~/.local/share/JetBrains/Toolbox/apps/PyCharm-P/ch-0/201.7223.69/plugins/python/helpers/pydev/_pydevd_bundle/pydevd_frame.py\u001B[0m in \u001B[0;36mdo_wait_suspend\u001B[0;34m(self, *args, **kwargs)\u001B[0m\n\u001B[1;32m    142\u001B[0m \u001B[0;34m\u001B[0m\u001B[0m\n\u001B[1;32m    143\u001B[0m     \u001B[0;32mdef\u001B[0m \u001B[0mdo_wait_suspend\u001B[0m\u001B[0;34m(\u001B[0m\u001B[0mself\u001B[0m\u001B[0;34m,\u001B[0m \u001B[0;34m*\u001B[0m\u001B[0margs\u001B[0m\u001B[0;34m,\u001B[0m \u001B[0;34m**\u001B[0m\u001B[0mkwargs\u001B[0m\u001B[0;34m)\u001B[0m\u001B[0;34m:\u001B[0m\u001B[0;34m\u001B[0m\u001B[0;34m\u001B[0m\u001B[0m\n\u001B[0;32m--> 144\u001B[0;31m         \u001B[0mself\u001B[0m\u001B[0;34m.\u001B[0m\u001B[0m_args\u001B[0m\u001B[0;34m[\u001B[0m\u001B[0;36m0\u001B[0m\u001B[0;34m]\u001B[0m\u001B[0;34m.\u001B[0m\u001B[0mdo_wait_suspend\u001B[0m\u001B[0;34m(\u001B[0m\u001B[0;34m*\u001B[0m\u001B[0margs\u001B[0m\u001B[0;34m,\u001B[0m \u001B[0;34m**\u001B[0m\u001B[0mkwargs\u001B[0m\u001B[0;34m)\u001B[0m\u001B[0;34m\u001B[0m\u001B[0;34m\u001B[0m\u001B[0m\n\u001B[0m\u001B[1;32m    145\u001B[0m \u001B[0;34m\u001B[0m\u001B[0m\n\u001B[1;32m    146\u001B[0m     \u001B[0;31m# IFDEF CYTHON\u001B[0m\u001B[0;34m\u001B[0m\u001B[0;34m\u001B[0m\u001B[0;34m\u001B[0m\u001B[0m\n",
      "\u001B[0;32m~/.local/share/JetBrains/Toolbox/apps/PyCharm-P/ch-0/201.7223.69/plugins/python/helpers/pydev/pydevd.py\u001B[0m in \u001B[0;36mdo_wait_suspend\u001B[0;34m(self, thread, frame, event, arg, send_suspend_message, is_unhandled_exception)\u001B[0m\n\u001B[1;32m   1101\u001B[0m \u001B[0;34m\u001B[0m\u001B[0m\n\u001B[1;32m   1102\u001B[0m         \u001B[0;32mwith\u001B[0m \u001B[0mself\u001B[0m\u001B[0;34m.\u001B[0m\u001B[0m_threads_suspended_single_notification\u001B[0m\u001B[0;34m.\u001B[0m\u001B[0mnotify_thread_suspended\u001B[0m\u001B[0;34m(\u001B[0m\u001B[0mthread_id\u001B[0m\u001B[0;34m,\u001B[0m \u001B[0mstop_reason\u001B[0m\u001B[0;34m)\u001B[0m\u001B[0;34m:\u001B[0m\u001B[0;34m\u001B[0m\u001B[0;34m\u001B[0m\u001B[0m\n\u001B[0;32m-> 1103\u001B[0;31m             \u001B[0mself\u001B[0m\u001B[0;34m.\u001B[0m\u001B[0m_do_wait_suspend\u001B[0m\u001B[0;34m(\u001B[0m\u001B[0mthread\u001B[0m\u001B[0;34m,\u001B[0m \u001B[0mframe\u001B[0m\u001B[0;34m,\u001B[0m \u001B[0mevent\u001B[0m\u001B[0;34m,\u001B[0m \u001B[0marg\u001B[0m\u001B[0;34m,\u001B[0m \u001B[0msuspend_type\u001B[0m\u001B[0;34m,\u001B[0m \u001B[0mfrom_this_thread\u001B[0m\u001B[0;34m)\u001B[0m\u001B[0;34m\u001B[0m\u001B[0;34m\u001B[0m\u001B[0m\n\u001B[0m\u001B[1;32m   1104\u001B[0m \u001B[0;34m\u001B[0m\u001B[0m\n\u001B[1;32m   1105\u001B[0m     \u001B[0;32mdef\u001B[0m \u001B[0m_do_wait_suspend\u001B[0m\u001B[0;34m(\u001B[0m\u001B[0mself\u001B[0m\u001B[0;34m,\u001B[0m \u001B[0mthread\u001B[0m\u001B[0;34m,\u001B[0m \u001B[0mframe\u001B[0m\u001B[0;34m,\u001B[0m \u001B[0mevent\u001B[0m\u001B[0;34m,\u001B[0m \u001B[0marg\u001B[0m\u001B[0;34m,\u001B[0m \u001B[0msuspend_type\u001B[0m\u001B[0;34m,\u001B[0m \u001B[0mfrom_this_thread\u001B[0m\u001B[0;34m)\u001B[0m\u001B[0;34m:\u001B[0m\u001B[0;34m\u001B[0m\u001B[0;34m\u001B[0m\u001B[0m\n",
      "\u001B[0;32m~/.local/share/JetBrains/Toolbox/apps/PyCharm-P/ch-0/201.7223.69/plugins/python/helpers/pydev/pydevd.py\u001B[0m in \u001B[0;36m_do_wait_suspend\u001B[0;34m(self, thread, frame, event, arg, suspend_type, from_this_thread)\u001B[0m\n\u001B[1;32m   1116\u001B[0m \u001B[0;34m\u001B[0m\u001B[0m\n\u001B[1;32m   1117\u001B[0m                 \u001B[0mself\u001B[0m\u001B[0;34m.\u001B[0m\u001B[0mprocess_internal_commands\u001B[0m\u001B[0;34m(\u001B[0m\u001B[0;34m)\u001B[0m\u001B[0;34m\u001B[0m\u001B[0;34m\u001B[0m\u001B[0m\n\u001B[0;32m-> 1118\u001B[0;31m                 \u001B[0mtime\u001B[0m\u001B[0;34m.\u001B[0m\u001B[0msleep\u001B[0m\u001B[0;34m(\u001B[0m\u001B[0;36m0.01\u001B[0m\u001B[0;34m)\u001B[0m\u001B[0;34m\u001B[0m\u001B[0;34m\u001B[0m\u001B[0m\n\u001B[0m\u001B[1;32m   1119\u001B[0m \u001B[0;34m\u001B[0m\u001B[0m\n\u001B[1;32m   1120\u001B[0m         \u001B[0mself\u001B[0m\u001B[0;34m.\u001B[0m\u001B[0mcancel_async_evaluation\u001B[0m\u001B[0;34m(\u001B[0m\u001B[0mget_current_thread_id\u001B[0m\u001B[0;34m(\u001B[0m\u001B[0mthread\u001B[0m\u001B[0;34m)\u001B[0m\u001B[0;34m,\u001B[0m \u001B[0mstr\u001B[0m\u001B[0;34m(\u001B[0m\u001B[0mid\u001B[0m\u001B[0;34m(\u001B[0m\u001B[0mframe\u001B[0m\u001B[0;34m)\u001B[0m\u001B[0;34m)\u001B[0m\u001B[0;34m)\u001B[0m\u001B[0;34m\u001B[0m\u001B[0;34m\u001B[0m\u001B[0m\n",
      "\u001B[0;31mKeyboardInterrupt\u001B[0m: "
     ]
    }
   ],
   "source": [
    "xyz_data = get_molecular_data('h2o', geometry=1, xyz_format=True)\n",
    "\n",
    "basis = '6-31g'\n",
    "active = {'B1':[0,1], 'A1':[2,3]}\n",
    "h2o = tq.quantumchemistry.Molecule(geometry=xyz_data, basis_set = basis, active_orbitals = active)\n",
    "hf_reference = hf_occ(2*h2o.n_orbitals, h2o.n_electrons)\n",
    "\n",
    "\n",
    "H = h2o.make_hamiltonian()\n",
    "\n",
    "print(\"\\nHamiltonian has {} terms\\n\".format(len(H)))\n",
    "\n",
    "#Define number of entanglers to enter ansatz\n",
    "n_ents = 6\n",
    "\n",
    "#Rank entanglers using energy gradient criterion\n",
    "ranked_entangler_groupings = generate_QCC_gradient_groupings(H.to_openfermion(), \n",
    "                                                             2*h2o.n_orbitals, \n",
    "                                                             hf_reference, \n",
    "                                                             cutoff=threshold)\n",
    "\n",
    "print('Grouping gradient magnitudes (Grouping : Gradient magnitude):')\n",
    "for i in range(len(ranked_entangler_groupings)):\n",
    "    print('{} : {}'.format(i+1,ranked_entangler_groupings[i][1]))\n",
    "\n",
    "entanglers = get_QCC_entanglers(ranked_entangler_groupings, n_ents, 2*h2o.n_orbitals)\n",
    "\n",
    "print('\\nSelected entanglers:')\n",
    "for ent in entanglers:\n",
    "    print(ent)"
   ]
  },
  {
   "cell_type": "markdown",
   "metadata": {},
   "source": [
    "With the 6 chosen entanglers, we can then run the QCC VQE simulation."
   ]
  },
  {
   "cell_type": "code",
   "execution_count": 7,
   "metadata": {
    "pycharm": {
     "name": "#%%\n"
    }
   },
   "outputs": [
    {
     "name": "stdout",
     "output_type": "stream",
     "text": [
      "Optimizer: <class 'tequila.optimizers.optimizer_scipy.OptimizerSciPy'> \n",
      "backend         : qulacs\n",
      "samples         : None\n",
      "save_history    : True\n",
      "noise           : None\n",
      "\n",
      "Method          : BFGS\n",
      "Objective       : 1 expectationvalues\n",
      "gradient        : 44 expectationvalues\n",
      "\n",
      "active variables : 22\n",
      "\n",
      "E=-75.98071144  angles= {gamma_7: 0.0, tau_0: 0.0, gamma_5: 0.0, beta_1: 3.141592653589793, tau_3: 0.0, tau_5: 0.0, tau_4: 0.0, gamma_1: 0.0, beta_0: 3.141592653589793, gamma_3: 0.0, gamma_4: 0.0, beta_5: 0.0, beta_2: 3.141592653589793, beta_4: 0.0, gamma_2: 0.0, beta_7: 0.0, tau_1: 0.0, tau_2: 0.0, gamma_6: 0.0, beta_3: 3.141592653589793, beta_6: 0.0, gamma_0: 0.0}  samples= None\n",
      "E=-75.98783364  angles= {gamma_7: 0.0, tau_0: 0.07584381103515625, gamma_5: 0.0, beta_1: 3.141592653589793, tau_3: 0.030994415283203125, tau_5: 0.02489471435546875, tau_4: 0.030078887939453125, gamma_1: 0.0, beta_0: 3.141592653589793, gamma_3: 0.0, gamma_4: 0.0, beta_5: 0.0, beta_2: 3.141592653589793, beta_4: 0.0, gamma_2: 0.0, beta_7: 0.0, tau_1: 0.037105560302734375, tau_2: 0.037105560302734375, gamma_6: 0.0, beta_3: 3.141592653589793, beta_6: 0.0, gamma_0: 0.0}  samples= None\n",
      "E=-75.98857329  angles= {gamma_7: 0.0, tau_0: 0.10182924911229851, gamma_5: 0.0, beta_1: 3.141592653589793, tau_3: 0.04690411561128141, tau_5: 0.0349288019865621, tau_4: 0.04177333199687153, gamma_1: 0.0, beta_0: 3.141592653589793, gamma_3: 0.0, gamma_4: 0.0, beta_5: 0.0, beta_2: 3.141592653589793, beta_4: 0.0, gamma_2: 0.0, beta_7: 0.0, tau_1: 0.05852392400836017, tau_2: 0.05929046375096231, gamma_6: 0.0, beta_3: 3.141592653589793, beta_6: 0.0, gamma_0: 0.0}  samples= None\n",
      "E=-75.98858260  angles= {gamma_7: 0.0, tau_0: 0.09969372766103793, gamma_5: 0.0, beta_1: 3.141592653589793, tau_3: 0.04783285764604097, tau_5: 0.034615428738700584, tau_4: 0.04149071210908681, gamma_1: 0.0, beta_0: 3.141592653589793, gamma_3: 0.0, gamma_4: 0.0, beta_5: 0.0, beta_2: 3.141592653589793, beta_4: 0.0, gamma_2: 0.0, beta_7: 0.0, tau_1: 0.060473123892992676, tau_2: 0.06154808363690651, gamma_6: 0.0, beta_3: 3.141592653589793, beta_6: 0.0, gamma_0: 0.0}  samples= None\n",
      "E=-75.98858369  angles= {gamma_7: 0.0, tau_0: 0.09850072062214467, gamma_5: 0.0, beta_1: 3.141592653589793, tau_3: 0.048183794335591834, tau_5: 0.034404300286443194, tau_4: 0.04135121252205053, gamma_1: 0.0, beta_0: 3.141592653589793, gamma_3: 0.0, gamma_4: 0.0, beta_5: 0.0, beta_2: 3.141592653589793, beta_4: 0.0, gamma_2: 0.0, beta_7: 0.0, tau_1: 0.06125613956121948, tau_2: 0.06252892067861264, gamma_6: 0.0, beta_3: 3.141592653589793, beta_6: 0.0, gamma_0: 0.0}  samples= None\n",
      "Optimization terminated successfully.\n",
      "         Current function value: -75.988584\n",
      "         Iterations: 4\n",
      "         Function evaluations: 5\n",
      "         Gradient evaluations: 5\n",
      "\n",
      "Obtained QCC energy (6 entanglers): -75.9885836880467\n"
     ]
    }
   ],
   "source": [
    "#Mean-field part of U (Omega):    \n",
    "U_MF = construct_QMF_ansatz(n_qubits = 2*h2o.n_orbitals)\n",
    "#Entangling part of U:\n",
    "U_ENT = construct_QCC_ansatz(entanglers)\n",
    "\n",
    "U_QCC = U_MF + U_ENT\n",
    "\n",
    "E = tq.ExpectationValue(H=H, U=U_QCC)\n",
    "\n",
    "initial_vals = init_qcc_params(hf_reference, E.extract_variables())\n",
    "\n",
    "#Minimize wrt the entangler amplitude and MF angles:\n",
    "result = tq.minimize(objective=E, method=\"BFGS\", initial_values=initial_vals, tol=1.e-4)\n",
    "\n",
    "\n",
    "print('\\nObtained QCC energy ({} entanglers): {}'.format(len(entanglers), result.energy))"
   ]
  },
  {
   "cell_type": "markdown",
   "metadata": {},
   "source": [
    "We obtain chemical accuracy for water near equilibrium geometry with only 6 entanglers. The obtained energy is not as accurate as that of UCCSD for this problem, however the QCC optimization may be performed at a fraction of the UCCSD circuit depth. One can also increase the number of entanglers entering the QCC ansatz to increase accuracy. As a final check, one can always run $n$ VQE trials with random initial guesses to test if the optimization fell into a local minimum. ***(Warning: Completing n=10 trials may take a few minutes for this VQE instance).***"
   ]
  },
  {
   "cell_type": "code",
   "execution_count": null,
   "metadata": {
    "pycharm": {
     "name": "#%%\n"
    }
   },
   "outputs": [],
   "source": [
    "n = 10\n",
    "result = minimize_E_random_guesses(objective=E, method='BFGS', tol=1e-4, n=n)\n",
    "\n",
    "print('\\nObtained QCC energy ({} entanglers): {}'.format(len(entanglers), result))"
   ]
  },
  {
   "cell_type": "markdown",
   "metadata": {},
   "source": [
    "Now that the examples are finished, we shall do this for the $\\textrm{H}_4$ molecule, so that we can investigate the\n",
    "effect of changing the bond angle between $\\beta = [85^\\circ, 95^\\circ]$.\n",
    "\n",
    "We shall investigate how the choice of fermionic or qubit ansatz affects the minimisation, given that we can apply more\n",
    "noise mitigation on the fermionic ansatz, but it will result in a deeper circuit.\n",
    "\n",
    "We will also switch optimisers, as COBYLA has been shown to perform better in noisy quantum circuits."
   ]
  },
  {
   "cell_type": "code",
   "execution_count": 17,
   "metadata": {
    "pycharm": {
     "name": "#%%\n"
    }
   },
   "outputs": [
    {
     "name": "stdout",
     "output_type": "stream",
     "text": [
      "available methods for optimizer modules found on your system:\n",
      "method               | optimizer module\n",
      "--------------------------\n",
      "NELDER-MEAD          | scipy\n",
      "COBYLA               | scipy\n",
      "POWELL               | scipy\n",
      "SLSQP                | scipy\n",
      "L-BFGS-B             | scipy\n",
      "BFGS                 | scipy\n",
      "CG                   | scipy\n",
      "TNC                  | scipy\n",
      "TRUST-KRYLOV         | scipy\n",
      "NEWTON-CG            | scipy\n",
      "DOGLEG               | scipy\n",
      "TRUST-NCG            | scipy\n",
      "TRUST-EXACT          | scipy\n",
      "TRUST-CONSTR         | scipy\n",
      "adam                 | gd\n",
      "adagrad              | gd\n",
      "adamax               | gd\n",
      "nadam                | gd\n",
      "sgd                  | gd\n",
      "momentum             | gd\n",
      "nesterov             | gd\n",
      "rmsprop              | gd\n",
      "rmsprop-nesterov     | gd\n",
      "Supported optimizer modules:  ['scipy', 'phoenics', 'gpyopt', 'gd']\n",
      "Installed optimizer modules:  ['scipy', 'gd']\n"
     ]
    }
   ],
   "source": [
    "tq.show_available_optimizers()"
   ]
  },
  {
   "cell_type": "code",
   "execution_count": null,
   "metadata": {
    "pycharm": {
     "is_executing": true,
     "name": "#%%\n"
    }
   },
   "outputs": [
    {
     "name": "stdout",
     "output_type": "stream",
     "text": [
      "Optimizer: <class 'tequila.optimizers.optimizer_scipy.OptimizerSciPy'> \n",
      "backend         : qulacs\n",
      "samples         : None\n",
      "save_history    : True\n",
      "noise           : None\n",
      "\n",
      "Method          : COBYLA\n",
      "Objective       : 1 expectationvalues\n",
      "\n",
      "active variables : 8\n",
      "\n",
      "Optimizer: <class 'tequila.optimizers.optimizer_scipy.OptimizerSciPy'> \n",
      "backend         : qulacs\n",
      "samples         : None\n",
      "save_history    : True\n",
      "noise           : None\n",
      "\n",
      "Method          : COBYLA\n",
      "Objective       : 1 expectationvalues\n",
      "\n",
      "active variables : 8\n",
      "\n",
      "Optimizer: <class 'tequila.optimizers.optimizer_scipy.OptimizerSciPy'> \n",
      "backend         : qulacs\n",
      "samples         : None\n",
      "save_history    : True\n",
      "noise           : None\n",
      "\n",
      "Method          : COBYLA\n",
      "Objective       : 1 expectationvalues\n",
      "\n",
      "active variables : 8\n",
      "\n"
     ]
    }
   ],
   "source": [
    "# H_4\n",
    "def run_h4_uccsd(angle: float):\n",
    "    xyz = get_molecular_data('h4', angle, True)\n",
    "    molecule = tq.quantumchemistry.Molecule(geometry=xyz, basis_set=basis)\n",
    "    exact = molecule.compute_energy(method='fci')\n",
    "    ham = molecule.make_hamiltonian()\n",
    "    uccsd = molecule.make_uccsd_ansatz(trotter_steps+2)\n",
    "    exp = tq.ExpectationValue(uccsd, ham)\n",
    "    init = {i: 0 for i in exp.extract_variables()} # initialising to random values gives poor results\n",
    "    result = tq.minimize(objective=exp, initial_values=init, method='cobyla', tol=1.0e-6, print_level=1)\n",
    "    return exact, result\n",
    "angles = np.linspace(85, 95, 5)\n",
    "results = []\n",
    "exacts = []\n",
    "for a in angles:\n",
    "    exact, result = run_h4_uccsd(a)\n",
    "    results.append(result.energy)\n",
    "    exacts.append(exact)"
   ]
  },
  {
   "cell_type": "code",
   "execution_count": 23,
   "metadata": {
    "pycharm": {
     "name": "#%%\n"
    }
   },
   "outputs": [
    {
     "data": {
      "text/plain": [
       "[<matplotlib.lines.Line2D at 0x7f2d0ebf27f0>]"
      ]
     },
     "execution_count": 23,
     "metadata": {},
     "output_type": "execute_result"
    },
    {
     "data": {
      "image/png": "[encoded data removed]",
      "text/plain": [
       "<Figure size 432x288 with 1 Axes>"
      ]
     },
     "metadata": {
      "needs_background": "light"
     },
     "output_type": "display_data"
    }
   ],
   "source": [
    "plt.plot(angles, results)\n",
    "plt.plot(angles, exacts)"
   ]
  },
  {
   "cell_type": "code",
   "execution_count": 24,
   "metadata": {
    "pycharm": {
     "name": "#%%\n"
    }
   },
   "outputs": [],
   "source": [
    "np.save(\"../../week2_data/week_2_h4_uccsd.npy\", (angles, results))\n",
    "np.save(\"../../week2_data/week_2_h4_exact.npy\", (angles, exacts))"
   ]
  },
  {
   "cell_type": "markdown",
   "metadata": {
    "pycharm": {
     "name": "#%% md\n"
    }
   },
   "source": [
    " It doesn't seem to be very accurate around 90 deg, even when increasing the number of trotter steps -\n",
    " is the qubit ansatz more effective?"
   ]
  },
  {
   "cell_type": "code",
   "execution_count": 30,
   "metadata": {
    "pycharm": {
     "name": "#%%\n"
    }
   },
   "outputs": [],
   "source": [
    "basis='sto-3g'\n",
    "def get_entanglers(molecule, n_ents):\n",
    "    hf = hf_occ(2*molecule.n_orbitals, molecule.n_electrons)\n",
    "    ham = molecule.make_hamiltonian()\n",
    "    ranked_entangler_groupings = generate_QCC_gradient_groupings(ham.to_openfermion(),\n",
    "                                                                 2*molecule.n_orbitals,\n",
    "                                                                 hf,\n",
    "                                                                 cutoff=threshold)\n",
    "\n",
    "    entanglers = get_QCC_entanglers(ranked_entangler_groupings, n_ents, 2*molecule.n_orbitals)\n",
    "    return entanglers, hf\n",
    "\n",
    "\n",
    "def run_h4_qubit(angle: float, layers: int = 1):\n",
    "    xyz = get_molecular_data('h4', angle, True)\n",
    "    molecule = tq.quantumchemistry.Molecule(geometry=xyz, basis_set=basis)\n",
    "    exact = molecule.compute_energy(method='fci')\n",
    "    ham = molecule.make_hamiltonian()\n",
    "    entanglers, hf = get_entanglers(molecule, ham.n_qubits)\n",
    "    for l in range(layers):\n",
    "        if l == 0:\n",
    "            qansatz = construct_QMF_ansatz(ham.n_qubits, l)\n",
    "        else:\n",
    "            qansatz += construct_QMF_ansatz(ham.n_qubits, l)\n",
    "        qansatz += construct_QCC_ansatz(entanglers)\n",
    "    exp = tq.ExpectationValue(qansatz, ham)\n",
    "    init = init_qcc_params(hf, exp.extract_variables())\n",
    "    result = minimize_E_random_guesses(objective=exp, method='adam', tol=1.0e-6, n=7)\n",
    "    return exact, result\n",
    "\n",
    "qresults = []\n",
    "qexacts = []\n",
    "angles = np.linspace(85, 95, 10)\n",
    "for a in angles:\n",
    "    exact, result = run_h4_qubit(a, 1)\n",
    "    qresults.append(result)\n",
    "    qexacts.append(exact)"
   ]
  },
  {
   "cell_type": "code",
   "execution_count": 31,
   "metadata": {
    "pycharm": {
     "name": "#%%\n"
    }
   },
   "outputs": [
    {
     "data": {
      "text/plain": "[<matplotlib.lines.Line2D at 0x7f6f74bb55f8>]"
     },
     "execution_count": 31,
     "metadata": {},
     "output_type": "execute_result"
    },
    {
     "data": {
      "text/plain": "<Figure size 432x288 with 1 Axes>",
      "image/png": "[encoded data removed]"
     },
     "metadata": {
      "needs_background": "light"
     },
     "output_type": "display_data"
    }
   ],
   "source": [
    "plt.plot(angles, qresults)\n",
    "plt.plot(angles, qexacts)"
   ]
  },
  {
   "cell_type": "code",
   "execution_count": 32,
   "metadata": {
    "pycharm": {
     "name": "#%%\n"
    }
   },
   "outputs": [],
   "source": [
    "np.save(\"../../week2_data/week_2_h4_qansatz.npy\", (angles, qresults))"
   ]
  },
  {
   "cell_type": "markdown",
   "metadata": {
    "pycharm": {
     "name": "#%% md\n"
    }
   },
   "source": [
    "Let's move on to H2O, see if we can make any improvements there."
   ]
  },
  {
   "cell_type": "code",
   "execution_count": 27,
   "metadata": {},
   "outputs": [
    {
     "name": "stdout",
     "output_type": "stream",
     "text": [
      "There are known issues with some psi4 methods and frozen virtual orbitals. Proceed with fingers crossed for hf.\n",
      "There are known issues with some psi4 methods and frozen virtual orbitals. Proceed with fingers crossed for fci.\n",
      "There are known issues with some psi4 methods and frozen virtual orbitals. Proceed with fingers crossed for hf.\n",
      "There are known issues with some psi4 methods and frozen virtual orbitals. Proceed with fingers crossed for fci.\n",
      "There are known issues with some psi4 methods and frozen virtual orbitals. Proceed with fingers crossed for hf.\n",
      "There are known issues with some psi4 methods and frozen virtual orbitals. Proceed with fingers crossed for fci.\n",
      "There are known issues with some psi4 methods and frozen virtual orbitals. Proceed with fingers crossed for hf.\n",
      "There are known issues with some psi4 methods and frozen virtual orbitals. Proceed with fingers crossed for fci.\n",
      "There are known issues with some psi4 methods and frozen virtual orbitals. Proceed with fingers crossed for hf.\n",
      "There are known issues with some psi4 methods and frozen virtual orbitals. Proceed with fingers crossed for fci.\n",
      "There are known issues with some psi4 methods and frozen virtual orbitals. Proceed with fingers crossed for hf.\n",
      "There are known issues with some psi4 methods and frozen virtual orbitals. Proceed with fingers crossed for fci.\n",
      "There are known issues with some psi4 methods and frozen virtual orbitals. Proceed with fingers crossed for hf.\n",
      "There are known issues with some psi4 methods and frozen virtual orbitals. Proceed with fingers crossed for fci.\n",
      "There are known issues with some psi4 methods and frozen virtual orbitals. Proceed with fingers crossed for hf.\n",
      "There are known issues with some psi4 methods and frozen virtual orbitals. Proceed with fingers crossed for fci.\n",
      "There are known issues with some psi4 methods and frozen virtual orbitals. Proceed with fingers crossed for hf.\n",
      "There are known issues with some psi4 methods and frozen virtual orbitals. Proceed with fingers crossed for fci.\n",
      "There are known issues with some psi4 methods and frozen virtual orbitals. Proceed with fingers crossed for hf.\n",
      "There are known issues with some psi4 methods and frozen virtual orbitals. Proceed with fingers crossed for fci.\n"
     ]
    }
   ],
   "source": [
    "def run_h2o(length: float, layers: int = 1):\n",
    "    xyz_data = get_molecular_data('h2o', geometry=length, xyz_format=True)\n",
    "\n",
    "    basis = '6-31g'\n",
    "    active = {'B1':[0,1], 'A1':[2,3]}\n",
    "    h2o = tq.quantumchemistry.Molecule(geometry=xyz_data, basis_set = basis, active_orbitals = active)\n",
    "    exact = h2o.compute_energy(method='fci')\n",
    "    hf_reference = hf_occ(2*h2o.n_orbitals, h2o.n_electrons)\n",
    "    ham = h2o.make_hamiltonian()\n",
    "    n_ents = ham.n_qubits\n",
    "    ranked_entangler_groupings = generate_QCC_gradient_groupings(ham.to_openfermion(),\n",
    "                                                                 2*h2o.n_orbitals,\n",
    "                                                                 hf_reference,\n",
    "                                                                 cutoff=threshold)\n",
    "    entanglers = get_QCC_entanglers(ranked_entangler_groupings, n_ents, 2*h2o.n_orbitals)\n",
    "    \n",
    "    for l in range(layers):\n",
    "        if l == 0:\n",
    "            qansatz = construct_QMF_ansatz(ham.n_qubits, l)\n",
    "        else:\n",
    "            qansatz += construct_QMF_ansatz(ham.n_qubits, l)\n",
    "        qansatz += construct_QCC_ansatz(entanglers)\n",
    "    E = tq.ExpectationValue(H=ham, U=qansatz)\n",
    "    n = 5\n",
    "    result = minimize_E_random_guesses(objective=E, method='adam', tol=1e-4, n=n)\n",
    "    return exact, result\n",
    "\n",
    "h2oresults = []\n",
    "h2oexacts = []\n",
    "lengths = np.linspace(0.5, 1, 10)\n",
    "for l in lengths:\n",
    "    exact, result = run_h2o(l, 1)\n",
    "    h2oresults.append(result)\n",
    "    h2oexacts.append(exact)\n"
   ]
  },
  {
   "cell_type": "code",
   "execution_count": 28,
   "metadata": {},
   "outputs": [
    {
     "data": {
      "text/plain": "[<matplotlib.lines.Line2D at 0x7f6f987bd240>]"
     },
     "execution_count": 28,
     "metadata": {},
     "output_type": "execute_result"
    },
    {
     "data": {
      "text/plain": "<Figure size 432x288 with 1 Axes>",
      "image/png": "[encoded data removed]"
     },
     "metadata": {
      "needs_background": "light"
     },
     "output_type": "display_data"
    }
   ],
   "source": [
    "plt.plot(lengths, h2oresults)\n",
    "plt.plot(lengths, h2oexacts)"
   ]
  },
  {
   "cell_type": "code",
   "execution_count": 29,
   "metadata": {},
   "outputs": [],
   "source": [
    "np.save('../../week2_data/week2_h2o.npy', (h2oresults, lengths))"
   ]
  },
  {
   "cell_type": "markdown",
   "metadata": {},
   "source": [
    "Finally, let's look at Nitrogen"
   ]
  },
  {
   "cell_type": "code",
   "execution_count": 21,
   "metadata": {},
   "outputs": [
    {
     "name": "stdout",
     "output_type": "stream",
     "text": [
      "There are known issues with some psi4 methods and frozen virtual orbitals. Proceed with fingers crossed for hf.\n",
      "There are known issues with some psi4 methods and frozen virtual orbitals. Proceed with fingers crossed for fci.\n",
      "There are known issues with some psi4 methods and frozen virtual orbitals. Proceed with fingers crossed for hf.\n",
      "There are known issues with some psi4 methods and frozen virtual orbitals. Proceed with fingers crossed for fci.\n",
      "There are known issues with some psi4 methods and frozen virtual orbitals. Proceed with fingers crossed for hf.\n",
      "There are known issues with some psi4 methods and frozen virtual orbitals. Proceed with fingers crossed for fci.\n",
      "There are known issues with some psi4 methods and frozen virtual orbitals. Proceed with fingers crossed for hf.\n",
      "There are known issues with some psi4 methods and frozen virtual orbitals. Proceed with fingers crossed for fci.\n",
      "There are known issues with some psi4 methods and frozen virtual orbitals. Proceed with fingers crossed for hf.\n",
      "There are known issues with some psi4 methods and frozen virtual orbitals. Proceed with fingers crossed for fci.\n",
      "There are known issues with some psi4 methods and frozen virtual orbitals. Proceed with fingers crossed for hf.\n",
      "There are known issues with some psi4 methods and frozen virtual orbitals. Proceed with fingers crossed for fci.\n",
      "There are known issues with some psi4 methods and frozen virtual orbitals. Proceed with fingers crossed for hf.\n",
      "There are known issues with some psi4 methods and frozen virtual orbitals. Proceed with fingers crossed for fci.\n",
      "There are known issues with some psi4 methods and frozen virtual orbitals. Proceed with fingers crossed for hf.\n",
      "There are known issues with some psi4 methods and frozen virtual orbitals. Proceed with fingers crossed for fci.\n",
      "There are known issues with some psi4 methods and frozen virtual orbitals. Proceed with fingers crossed for hf.\n",
      "There are known issues with some psi4 methods and frozen virtual orbitals. Proceed with fingers crossed for fci.\n",
      "There are known issues with some psi4 methods and frozen virtual orbitals. Proceed with fingers crossed for hf.\n",
      "There are known issues with some psi4 methods and frozen virtual orbitals. Proceed with fingers crossed for fci.\n"
     ]
    }
   ],
   "source": [
    "def run_n2(length: float, layers: int = 1):\n",
    "    basis = '6-31g'\n",
    "    xyz = get_molecular_data('n2', length, True)\n",
    "    active = {'AG': [1, 3], 'B1U': [0, 1], 'B3U': [0]}\n",
    "    n2 = tq.quantumchemistry.Molecule(geometry=xyz, basis_set=basis, active_orbitals=active)\n",
    "    exact = n2.compute_energy(method='fci')\n",
    "    hf_reference = hf_occ(2*n2.n_orbitals, n2.n_electrons)\n",
    "    ham = n2.make_hamiltonian()\n",
    "    n_ents = ham.n_qubits\n",
    "    ranked_entangler_groupings = generate_QCC_gradient_groupings(ham.to_openfermion(),\n",
    "                                                                 2*n2.n_orbitals,\n",
    "                                                                 hf_reference,\n",
    "                                                                 cutoff=threshold)\n",
    "    entanglers = get_QCC_entanglers(ranked_entangler_groupings, n_ents, 2*n2.n_orbitals)\n",
    "\n",
    "    for l in range(layers):\n",
    "        if l == 0:\n",
    "            qansatz = construct_QMF_ansatz(ham.n_qubits, l)\n",
    "        else:\n",
    "            qansatz += construct_QMF_ansatz(ham.n_qubits, l)\n",
    "        qansatz += construct_QCC_ansatz(entanglers)\n",
    "    E = tq.ExpectationValue(H=ham, U=qansatz)\n",
    "    n = 5\n",
    "    result = minimize_E_random_guesses(objective=E, method='adam', tol=1e-4, n=n)\n",
    "    return exact, result\n",
    "\n",
    "n2results = []\n",
    "n2exacts = []\n",
    "lengths = np.linspace(0.1, 2, 10)\n",
    "for l in lengths:\n",
    "    exact, result = run_n2(l, 1)\n",
    "    n2results.append(result)\n",
    "    n2exacts.append(exact)"
   ]
  },
  {
   "cell_type": "code",
   "execution_count": 23,
   "outputs": [
    {
     "data": {
      "text/plain": "[<matplotlib.lines.Line2D at 0x7f6f640a1668>]"
     },
     "execution_count": 23,
     "metadata": {},
     "output_type": "execute_result"
    },
    {
     "data": {
      "text/plain": "<Figure size 432x288 with 1 Axes>",
      "image/png": "[encoded data removed]"
     },
     "metadata": {
      "needs_background": "light"
     },
     "output_type": "display_data"
    }
   ],
   "source": [
    "plt.plot(lengths, n2results)\n",
    "plt.plot(lengths, n2exacts)"
   ],
   "metadata": {
    "collapsed": false,
    "pycharm": {
     "name": "#%%\n"
    }
   }
  },
  {
   "cell_type": "code",
   "execution_count": 40,
   "outputs": [],
   "source": [
    "np.save('../../week2_data/week2_n2.npy', (n2results, lengths))"
   ],
   "metadata": {
    "collapsed": false,
    "pycharm": {
     "name": "#%%\n"
    }
   }
  }
 ],
 "metadata": {
  "kernelspec": {
   "display_name": "Python 3",
   "language": "python",
   "name": "python3"
  },
  "language_info": {
   "codemirror_mode": {
    "name": "ipython",
    "version": 3
   },
   "file_extension": ".py",
   "mimetype": "text/x-python",
   "name": "python",
   "nbconvert_exporter": "python",
   "pygments_lexer": "ipython3",
   "version": "3.7.1"
  }
 },
 "nbformat": 4,
 "nbformat_minor": 2
}