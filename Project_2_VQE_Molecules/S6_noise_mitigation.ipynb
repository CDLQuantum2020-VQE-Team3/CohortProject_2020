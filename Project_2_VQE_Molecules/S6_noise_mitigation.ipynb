{
 "cells": [
  {
   "cell_type": "markdown",
   "metadata": {
    "collapsed": true,
    "pycharm": {
     "name": "#%% md\n"
    }
   },
   "source": [
    "# Noise mitigation via zero-noise extrapolation\n",
    "\n",
    "Here we will use the functions developed in `./noise_mitigation_utils.py` to demonstrate how this technique can improve\n",
    " results when running on a noisy device."
   ]
  },
  {
   "cell_type": "code",
   "execution_count": 2,
   "outputs": [],
   "source": [
    "from noise_mitigation_utils import NoiseMitigation\n",
    "from utility import *\n",
    "import numpy as np\n",
    "import qiskit\n",
    "import cirq\n",
    "import tequila as tq\n",
    "import matplotlib.pyplot as plt"
   ],
   "metadata": {
    "collapsed": false,
    "pycharm": {
     "name": "#%%\n"
    }
   }
  },
  {
   "cell_type": "markdown",
   "source": [
    "Let's take an ansatz trained in S3 and calculate the expectation value on a noisy device."
   ],
   "metadata": {
    "collapsed": false,
    "pycharm": {
     "name": "#%% md\n"
    }
   }
  },
  {
   "cell_type": "code",
   "execution_count": 3,
   "outputs": [],
   "source": [
    "def zn_h2o(r: float):\n",
    "    xyz_data = get_molecular_data('h2o', geometry=r, xyz_format=True)\n",
    "\n",
    "    basis = '6-31g'\n",
    "    active = {'B1':[0,1], 'A1':[2,3]}\n",
    "    h2o = tq.quantumchemistry.Molecule(geometry=xyz_data, basis_set = basis, active_orbitals = active)\n",
    "    exact = h2o.compute_energy(method='fci')\n",
    "    hf_reference = hf_occ(2*h2o.n_orbitals, h2o.n_electrons)\n",
    "    ham = h2o.make_hamiltonian()\n",
    "    n_ents = ham.n_qubits\n",
    "    ranked_entangler_groupings = generate_QCC_gradient_groupings(ham.to_openfermion(),\n",
    "                                                                 2*h2o.n_orbitals,\n",
    "                                                                 hf_reference,\n",
    "                                                                 cutoff=1.e-6)\n",
    "    entanglers = get_QCC_entanglers(ranked_entangler_groupings, n_ents, 2*h2o.n_orbitals)\n",
    "\n",
    "    for l in range(1):\n",
    "        if l == 0:\n",
    "            qansatz = construct_QMF_ansatz(ham.n_qubits, l)\n",
    "        else:\n",
    "            qansatz += construct_QMF_ansatz(ham.n_qubits, l)\n",
    "        qansatz += construct_QCC_ansatz(entanglers)\n",
    "    E = tq.ExpectationValue(H=ham, U=qansatz)\n",
    "    n =7\n",
    "    noiseless = minimize_E_random_guesses(objective=E, method='adam', tol=1.0e-6, n=n)\n",
    "    converged = noiseless.variables\n",
    "    noise = tq.circuit.noise.DepolarizingError(0.05, ham.n_qubits)\n",
    "    mitigation = NoiseMitigation(backend='qiskit', noise_model=noise)\n",
    "    zero_n, noisy = mitigation.zero_noise_expansion(H=ham, U=qansatz, variables=converged)\n",
    "    return exact, noiseless.energy, noisy, zero_n"
   ],
   "metadata": {
    "collapsed": false,
    "pycharm": {
     "name": "#%%\n"
    }
   }
  },
  {
   "cell_type": "code",
   "execution_count": 4,
   "outputs": [
    {
     "name": "stdout",
     "output_type": "stream",
     "text": [
      "There are known issues with some psi4 methods and frozen virtual orbitals. Proceed with fingers crossed for hf.\n",
      "There are known issues with some psi4 methods and frozen virtual orbitals. Proceed with fingers crossed for fci.\n",
      "There are known issues with some psi4 methods and frozen virtual orbitals. Proceed with fingers crossed for hf.\n",
      "There are known issues with some psi4 methods and frozen virtual orbitals. Proceed with fingers crossed for fci.\n",
      "There are known issues with some psi4 methods and frozen virtual orbitals. Proceed with fingers crossed for hf.\n",
      "There are known issues with some psi4 methods and frozen virtual orbitals. Proceed with fingers crossed for fci.\n",
      "There are known issues with some psi4 methods and frozen virtual orbitals. Proceed with fingers crossed for hf.\n",
      "There are known issues with some psi4 methods and frozen virtual orbitals. Proceed with fingers crossed for fci.\n",
      "There are known issues with some psi4 methods and frozen virtual orbitals. Proceed with fingers crossed for hf.\n",
      "There are known issues with some psi4 methods and frozen virtual orbitals. Proceed with fingers crossed for fci.\n",
      "There are known issues with some psi4 methods and frozen virtual orbitals. Proceed with fingers crossed for hf.\n",
      "There are known issues with some psi4 methods and frozen virtual orbitals. Proceed with fingers crossed for fci.\n",
      "There are known issues with some psi4 methods and frozen virtual orbitals. Proceed with fingers crossed for hf.\n",
      "There are known issues with some psi4 methods and frozen virtual orbitals. Proceed with fingers crossed for fci.\n",
      "There are known issues with some psi4 methods and frozen virtual orbitals. Proceed with fingers crossed for hf.\n",
      "There are known issues with some psi4 methods and frozen virtual orbitals. Proceed with fingers crossed for fci.\n",
      "There are known issues with some psi4 methods and frozen virtual orbitals. Proceed with fingers crossed for hf.\n",
      "There are known issues with some psi4 methods and frozen virtual orbitals. Proceed with fingers crossed for fci.\n",
      "There are known issues with some psi4 methods and frozen virtual orbitals. Proceed with fingers crossed for hf.\n",
      "There are known issues with some psi4 methods and frozen virtual orbitals. Proceed with fingers crossed for fci.\n"
     ]
    }
   ],
   "source": [
    "h2o_exact, h2o_noisy, h2o_zero_n = [], [], []\n",
    "lengths = np.linspace(0.5, 1.0, 10)\n",
    "for l in lengths:\n",
    "    exact, _, noisy, zero_n = zn_h2o(l)\n",
    "    h2o_exact.append(exact), h2o_noisy.append(noisy), h2o_zero_n.append(zero_n)"
   ],
   "metadata": {
    "collapsed": false,
    "pycharm": {
     "name": "#%%\n"
    }
   }
  },
  {
   "cell_type": "code",
   "execution_count": 5,
   "outputs": [
    {
     "data": {
      "text/plain": "<matplotlib.legend.Legend at 0x7fdc5710f470>"
     },
     "execution_count": 5,
     "metadata": {},
     "output_type": "execute_result"
    },
    {
     "data": {
      "text/plain": "<Figure size 432x288 with 1 Axes>",
      "image/png": "[encoded data removed]"
     },
     "metadata": {
      "needs_background": "light"
     },
     "output_type": "display_data"
    }
   ],
   "source": [
    "plt.plot(lengths, h2o_exact, label='Exact')\n",
    "\n",
    "plt.plot(lengths, h2o_noisy, label='Noisy', marker='x')\n",
    "plt.plot(lengths,h2o_zero_n,  label='Zero noise expansion', marker='o')\n",
    "plt.legend()"
   ],
   "metadata": {
    "collapsed": false,
    "pycharm": {
     "name": "#%%\n"
    }
   }
  },
  {
   "cell_type": "code",
   "execution_count": 6,
   "outputs": [],
   "source": [
    "np.save('../../week2_data/h2o_zn_expansion.npy', (h2o_exact, h2o_noisy, h2o_zero_n, lengths))"
   ],
   "metadata": {
    "collapsed": false,
    "pycharm": {
     "name": "#%%\n"
    }
   }
  },
  {
   "cell_type": "code",
   "execution_count": 7,
   "outputs": [],
   "source": [
    "def zn_h4(angle: float):\n",
    "    xyz_data = get_molecular_data('h4', geometry=angle, xyz_format=True)\n",
    "\n",
    "    basis = 'sto-3g'\n",
    "    h4 = tq.quantumchemistry.Molecule(geometry=xyz_data, basis_set = basis)\n",
    "    exact = h4.compute_energy(method='fci')\n",
    "    hf_reference = hf_occ(2*h4.n_orbitals, h4.n_electrons)\n",
    "    ham = h4.make_hamiltonian()\n",
    "    n_ents = ham.n_qubits\n",
    "    ranked_entangler_groupings = generate_QCC_gradient_groupings(ham.to_openfermion(),\n",
    "                                                                 2*h4.n_orbitals,\n",
    "                                                                 hf_reference,\n",
    "                                                                 cutoff=1.e-6)\n",
    "    entanglers = get_QCC_entanglers(ranked_entangler_groupings, n_ents, 2*h4.n_orbitals)\n",
    "\n",
    "    for l in range(1):\n",
    "        if l == 0:\n",
    "            qansatz = construct_QMF_ansatz(ham.n_qubits, l)\n",
    "        else:\n",
    "            qansatz += construct_QMF_ansatz(ham.n_qubits, l)\n",
    "        qansatz += construct_QCC_ansatz(entanglers)\n",
    "    E = tq.ExpectationValue(H=ham, U=qansatz)\n",
    "    n =7\n",
    "    noiseless = minimize_E_random_guesses(objective=E, method='adam', tol=1.0e-6, n=n)\n",
    "    converged = noiseless.variables\n",
    "    noise = tq.circuit.noise.DepolarizingError(0.05, ham.n_qubits)\n",
    "    mitigation = NoiseMitigation(backend='qiskit', noise_model=noise)\n",
    "    zero_n, noisy = mitigation.zero_noise_expansion(H=ham, U=qansatz, variables=converged)\n",
    "    return exact, noiseless.energy, noisy, zero_n"
   ],
   "metadata": {
    "collapsed": false,
    "pycharm": {
     "name": "#%%\n"
    }
   }
  },
  {
   "cell_type": "code",
   "execution_count": 8,
   "outputs": [],
   "source": [
    "h4_exact, h4_noisy, h4_zero_n = [], [], []\n",
    "angles = np.linspace(85, 95, 10)\n",
    "for a in angles:\n",
    "    exact, _, noisy, zero_n = zn_h4(a)\n",
    "    h4_exact.append(exact), h4_noisy.append(noisy), h4_zero_n.append(zero_n)"
   ],
   "metadata": {
    "collapsed": false,
    "pycharm": {
     "name": "#%%\n"
    }
   }
  },
  {
   "cell_type": "code",
   "execution_count": 9,
   "outputs": [
    {
     "data": {
      "text/plain": "<matplotlib.legend.Legend at 0x7fdc4c7c5518>"
     },
     "execution_count": 9,
     "metadata": {},
     "output_type": "execute_result"
    },
    {
     "data": {
      "text/plain": "<Figure size 432x288 with 1 Axes>",
      "image/png": "[encoded data removed]"
     },
     "metadata": {
      "needs_background": "light"
     },
     "output_type": "display_data"
    }
   ],
   "source": [
    "plt.plot( lengths,h4_exact, label='Exact')\n",
    "plt.plot( lengths,h4_noisy, label='Noisy', marker='x')\n",
    "plt.plot( lengths,h4_zero_n, label='Zero noise expansion', marker='o')\n",
    "plt.legend()"
   ],
   "metadata": {
    "collapsed": false,
    "pycharm": {
     "name": "#%%\n"
    }
   }
  },
  {
   "cell_type": "code",
   "execution_count": 10,
   "outputs": [],
   "source": [
    "np.save('../../week2_data/h4_zn_expansion.npy', (h4_exact, h4_noisy, h4_zero_n, lengths))"
   ],
   "metadata": {
    "collapsed": false,
    "pycharm": {
     "name": "#%%\n"
    }
   }
  },
  {
   "cell_type": "code",
   "execution_count": 11,
   "outputs": [],
   "source": [
    "def zn_n2(r: float):\n",
    "    xyz_data = get_molecular_data('n2', geometry=r, xyz_format=True)\n",
    "\n",
    "    basis = '6-31g'\n",
    "    active = {'AG': [1, 3], 'B1U': [0, 1], 'B3U': [0]}\n",
    "    n2 = tq.quantumchemistry.Molecule(geometry=xyz_data, basis_set = basis, active_orbitals = active)\n",
    "    exact = n2.compute_energy(method='fci')\n",
    "    hf_reference = hf_occ(2*n2.n_orbitals, n2.n_electrons)\n",
    "    ham = n2.make_hamiltonian()\n",
    "    n_ents = ham.n_qubits\n",
    "    ranked_entangler_groupings = generate_QCC_gradient_groupings(ham.to_openfermion(),\n",
    "                                                                 2*n2.n_orbitals,\n",
    "                                                                 hf_reference,\n",
    "                                                                 cutoff=1.e-6)\n",
    "    entanglers = get_QCC_entanglers(ranked_entangler_groupings, n_ents, 2*n2.n_orbitals)\n",
    "\n",
    "    for l in range(1):\n",
    "        if l == 0:\n",
    "            qansatz = construct_QMF_ansatz(ham.n_qubits, l)\n",
    "        else:\n",
    "            qansatz += construct_QMF_ansatz(ham.n_qubits, l)\n",
    "        qansatz += construct_QCC_ansatz(entanglers)\n",
    "    E = tq.ExpectationValue(H=ham, U=qansatz)\n",
    "    n =7\n",
    "    noiseless = minimize_E_random_guesses(objective=E, method='adam', tol=1.0e-6, n=n)\n",
    "    converged = noiseless.variables\n",
    "    noise = tq.circuit.noise.DepolarizingError(0.05, ham.n_qubits)\n",
    "    mitigation = NoiseMitigation(backend='qiskit', noise_model=noise)\n",
    "    zero_n, noisy = mitigation.zero_noise_expansion(H=ham, U=qansatz, variables=converged)\n",
    "    return exact, noiseless.energy, noisy, zero_n"
   ],
   "metadata": {
    "collapsed": false,
    "pycharm": {
     "name": "#%%\n"
    }
   }
  },
  {
   "cell_type": "code",
   "execution_count": 12,
   "outputs": [
    {
     "name": "stdout",
     "output_type": "stream",
     "text": [
      "There are known issues with some psi4 methods and frozen virtual orbitals. Proceed with fingers crossed for hf.\n",
      "There are known issues with some psi4 methods and frozen virtual orbitals. Proceed with fingers crossed for fci.\n",
      "There are known issues with some psi4 methods and frozen virtual orbitals. Proceed with fingers crossed for hf.\n",
      "There are known issues with some psi4 methods and frozen virtual orbitals. Proceed with fingers crossed for fci.\n",
      "There are known issues with some psi4 methods and frozen virtual orbitals. Proceed with fingers crossed for hf.\n",
      "There are known issues with some psi4 methods and frozen virtual orbitals. Proceed with fingers crossed for fci.\n",
      "There are known issues with some psi4 methods and frozen virtual orbitals. Proceed with fingers crossed for hf.\n",
      "There are known issues with some psi4 methods and frozen virtual orbitals. Proceed with fingers crossed for fci.\n",
      "There are known issues with some psi4 methods and frozen virtual orbitals. Proceed with fingers crossed for hf.\n",
      "There are known issues with some psi4 methods and frozen virtual orbitals. Proceed with fingers crossed for fci.\n",
      "There are known issues with some psi4 methods and frozen virtual orbitals. Proceed with fingers crossed for hf.\n",
      "There are known issues with some psi4 methods and frozen virtual orbitals. Proceed with fingers crossed for fci.\n",
      "There are known issues with some psi4 methods and frozen virtual orbitals. Proceed with fingers crossed for hf.\n",
      "There are known issues with some psi4 methods and frozen virtual orbitals. Proceed with fingers crossed for fci.\n",
      "There are known issues with some psi4 methods and frozen virtual orbitals. Proceed with fingers crossed for hf.\n",
      "There are known issues with some psi4 methods and frozen virtual orbitals. Proceed with fingers crossed for fci.\n",
      "There are known issues with some psi4 methods and frozen virtual orbitals. Proceed with fingers crossed for hf.\n",
      "There are known issues with some psi4 methods and frozen virtual orbitals. Proceed with fingers crossed for fci.\n",
      "There are known issues with some psi4 methods and frozen virtual orbitals. Proceed with fingers crossed for hf.\n",
      "There are known issues with some psi4 methods and frozen virtual orbitals. Proceed with fingers crossed for fci.\n"
     ]
    }
   ],
   "source": [
    "n2_exact, n2_noisy, n2_zero_n = [], [], []\n",
    "lengths = np.linspace(0.1, 2, 10)\n",
    "for l in lengths:\n",
    "    exact, _, noisy, zero_n = zn_n2(l)\n",
    "    n2_exact.append(exact), n2_noisy.append(noisy), n2_zero_n.append(zero_n)"
   ],
   "metadata": {
    "collapsed": false,
    "pycharm": {
     "name": "#%%\n"
    }
   }
  },
  {
   "cell_type": "code",
   "execution_count": 13,
   "outputs": [
    {
     "data": {
      "text/plain": "<matplotlib.legend.Legend at 0x7fdc4c72c0f0>"
     },
     "execution_count": 13,
     "metadata": {},
     "output_type": "execute_result"
    },
    {
     "data": {
      "text/plain": "<Figure size 432x288 with 1 Axes>",
      "image/png": "[encoded data removed]"
     },
     "metadata": {
      "needs_background": "light"
     },
     "output_type": "display_data"
    }
   ],
   "source": [
    "plt.plot( lengths,n2_exact, label='Exact')\n",
    "plt.plot( lengths,n2_noisy, label='Noisy', marker='x')\n",
    "plt.plot(lengths, n2_zero_n,  label='Zero noise expansion', marker='o')\n",
    "plt.legend()"
   ],
   "metadata": {
    "collapsed": false,
    "pycharm": {
     "name": "#%%\n"
    }
   }
  },
  {
   "cell_type": "code",
   "execution_count": 14,
   "outputs": [],
   "source": [
    "np.save('../../week2_data/n2_zn_expansion.npy', (n2_exact, n2_noisy, n2_zero_n, lengths))\n"
   ],
   "metadata": {
    "collapsed": false,
    "pycharm": {
     "name": "#%%\n"
    }
   }
  },
  {
   "cell_type": "code",
   "execution_count": null,
   "outputs": [],
   "source": [
    "\n"
   ],
   "metadata": {
    "collapsed": false,
    "pycharm": {
     "name": "#%%\n"
    }
   }
  }
 ],
 "metadata": {
  "kernelspec": {
   "display_name": "Python 3",
   "language": "python",
   "name": "python3"
  },
  "language_info": {
   "codemirror_mode": {
    "name": "ipython",
    "version": 2
   },
   "file_extension": ".py",
   "mimetype": "text/x-python",
   "name": "python",
   "nbconvert_exporter": "python",
   "pygments_lexer": "ipython2",
   "version": "2.7.6"
  }
 },
 "nbformat": 4,
 "nbformat_minor": 0
}