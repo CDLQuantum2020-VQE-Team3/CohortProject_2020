{
 "cells": [
  {
   "cell_type": "markdown",
   "metadata": {},
   "source": [
    "# Measurement Grouping\n",
    "\n",
    "Since current quantum hardware is limited to single-qubit projective measurement, only terms commuting within individual qubit's subspace can be measured together. These terms are said to be qubit-wise commuting (QWC). \n",
    "\n",
    "Thus, one can not measure the entire electronic Hamiltonian $\\hat H$ at once, and instead needs to separate it into fragments. \n",
    "$$\\hat H = \\sum_n \\hat H_n$$\n",
    "where each $\\hat H_n$ is a QWC fragment. "
   ]
  },
  {
   "cell_type": "code",
   "execution_count": 41,
   "metadata": {},
   "outputs": [],
   "source": [
    "from utility import *\n",
    "import tequila as tq\n",
    "import pickle as pkl"
   ]
  },
  {
   "cell_type": "markdown",
   "metadata": {},
   "source": [
    "Here we use $H_2$ as an example for finding QWC fragments. Notice below that each fragment has the same terms on all qubits.  \n",
    "\n",
    "To show differences between QWC and more advanced grouping, we didn't use the qubit-tappering techinique shown in step 2."
   ]
  },
  {
   "cell_type": "code",
   "execution_count": 4,
   "metadata": {
    "tags": []
   },
   "outputs": [
    {
     "name": "stdout",
     "output_type": "stream",
     "text": [
      "Fragments 1: \n",
      "0.13716572937099494 [Z0] +\n",
      "0.15660062488237958 [Z0 Z1] +\n",
      "0.10622904490856085 [Z0 Z2] +\n",
      "0.15542669077992843 [Z0 Z3] +\n",
      "0.13716572937099494 [Z1] +\n",
      "0.15542669077992843 [Z1 Z2] +\n",
      "0.10622904490856085 [Z1 Z3] +\n",
      "-0.1303629205710914 [Z2] +\n",
      "0.1632676867356435 [Z2 Z3] +\n",
      "-0.13036292057109133 [Z3]\n",
      "\n",
      "Fragments 2:\n",
      "-0.04919764587136759 [X0 X1 Y2 Y3]\n",
      "\n",
      "Number of fragments: 5\n"
     ]
    }
   ],
   "source": [
    "h2 = get_qubit_hamiltonian(mol='h2', geometry=1, basis='sto3g', qubit_transf='jw')\n",
    "\n",
    "qwc_list = get_qwc_group(h2)\n",
    "print('Fragments 1: \\n{}\\n'.format(qwc_list[4]))\n",
    "print('Fragments 2:\\n{}\\n'.format(qwc_list[1]))\n",
    "print('Number of fragments: {}'.format(len(qwc_list)))"
   ]
  },
  {
   "cell_type": "markdown",
   "metadata": {},
   "source": [
    "By applying extra unitaries, one may rotate more terms of $\\hat H$ into a QWC fragment.  \n",
    "\n",
    "Recall that in digital quantum computing, the expectation value of $\\hat H_n$ given a trial wavefunction $|\\psi\\rangle$ is \n",
    "$$ E_n =\\ \\langle\\psi| \\hat H_n | \\psi\\rangle$$\n",
    "Inserting unitary transformation $\\hat U_n$ does not change the expectation value.\n",
    "$$ E_n =\\ \\langle\\psi| \\hat U_n^\\dagger \\hat U_n \\hat H_n \\hat U_n^\\dagger \\hat U_n  |\\psi\\rangle$$ \n",
    "This nonetheless changes the trial wavefunction and the terms to be measured. \n",
    "$$ |\\psi\\rangle \\rightarrow \\hat U_n |\\psi\\rangle = |\\phi\\rangle$$\n",
    "$$ \\hat H_n \\rightarrow \\hat U_n \\hat H_n \\hat U_n^\\dagger = \\hat A_n$$\n",
    "The transformation of $|\\psi \\rangle$ can be done on the quantum computer, and the transformation of $\\hat H_n$ is possible on the classical computer. \n",
    "\n",
    "Now, although $\\hat A_n$ needs to be a QWC fragment to be measurable on a quantum computer, $\\hat H_n$ does not. \n",
    "Instead, if we restrict $\\hat U_n$ to be a clifford operation, the terms in $\\hat H$ need only mutually commute. \n",
    "\n",
    "Here, we obtain measurable parts of $H_2$ by partitioning its terms into mutually commuting fragments. "
   ]
  },
  {
   "cell_type": "code",
   "execution_count": 25,
   "metadata": {
    "tags": []
   },
   "outputs": [
    {
     "name": "stdout",
     "output_type": "stream",
     "text": [
      "Number of mutually commuting fragments: 2\n",
      "The first commuting group\n",
      "-0.3276081896748089 [] +\n",
      "-0.04919764587136759 [X0 X1 Y2 Y3] +\n",
      "0.04919764587136759 [X0 Y1 Y2 X3] +\n",
      "0.04919764587136759 [Y0 X1 X2 Y3] +\n",
      "-0.04919764587136759 [Y0 Y1 X2 X3] +\n",
      "0.15660062488237958 [Z0 Z1] +\n",
      "0.10622904490856085 [Z0 Z2] +\n",
      "0.15542669077992843 [Z0 Z3] +\n",
      "0.15542669077992843 [Z1 Z2] +\n",
      "0.10622904490856085 [Z1 Z3] +\n",
      "0.1632676867356435 [Z2 Z3]\n"
     ]
    }
   ],
   "source": [
    "comm_groups = get_commuting_group(h2)\n",
    "print('Number of mutually commuting fragments: {}'.format(len(comm_groups)))\n",
    "print('The first commuting group')\n",
    "print(comm_groups[1])"
   ]
  },
  {
   "cell_type": "markdown",
   "metadata": {},
   "source": [
    "To see this fragment is indeed measurable, one can construct the corresponding unitary operator $\\hat U_n$."
   ]
  },
  {
   "cell_type": "code",
   "execution_count": 11,
   "metadata": {
    "tags": []
   },
   "outputs": [
    {
     "name": "stdout",
     "output_type": "stream",
     "text": [
      "This is unitary, U * U^+ = I \n",
      "(0.9999999999999996+0j) []\n"
     ]
    }
   ],
   "source": [
    "uqwc = get_qwc_unitary(comm_groups[1])\n",
    "print('This is unitary, U * U^+ = I ')\n",
    "print(uqwc * uqwc)"
   ]
  },
  {
   "cell_type": "markdown",
   "metadata": {},
   "source": [
    "Applying this unitary gives the qubit-wise commuting form of the first mutually commuting group"
   ]
  },
  {
   "cell_type": "code",
   "execution_count": 12,
   "metadata": {
    "tags": []
   },
   "outputs": [
    {
     "name": "stdout",
     "output_type": "stream",
     "text": [
      "-0.32760818967480876 [] +\n",
      "0.15542669077992827 [X0] +\n",
      "0.15660062488237952 [X0 X1] +\n",
      "0.04919764587136755 [X0 X1 Z3] +\n",
      "0.10622904490856076 [X0 X2] +\n",
      "-0.04919764587136755 [X0 Z3] +\n",
      "0.10622904490856076 [X1] +\n",
      "0.15542669077992827 [X1 X2] +\n",
      "-0.04919764587136755 [X1 X2 Z3] +\n",
      "0.16326768673564335 [X2] +\n",
      "0.04919764587136755 [X2 Z3]\n"
     ]
    }
   ],
   "source": [
    "qwc = remove_complex(uqwc * comm_groups[1] * uqwc)\n",
    "print(qwc)"
   ]
  },
  {
   "cell_type": "markdown",
   "metadata": {},
   "source": [
    "In addition, current quantum computer can measure only the $z$ operators. Thus, QWC fragments with $x$ or $y$ operators\n",
    "require extra single-qubit unitaries that rotate them into $z$."
   ]
  },
  {
   "cell_type": "code",
   "execution_count": 18,
   "metadata": {
    "tags": []
   },
   "outputs": [
    {
     "name": "stdout",
     "output_type": "stream",
     "text": [
      "Checking whether U * U^+ is identity: 0.9999999999999998 []\n",
      "\n",
      "The all-z form of qwc fragment:\n",
      "-0.3276081896748086 [] +\n",
      "0.15542669077992818 [Z0] +\n",
      "0.15660062488237944 [Z0 Z1] +\n",
      "0.04919764587136754 [Z0 Z1 Z3] +\n",
      "0.1062290449085607 [Z0 Z2] +\n",
      "-0.04919764587136754 [Z0 Z3] +\n",
      "0.1062290449085607 [Z1] +\n",
      "0.15542669077992818 [Z1 Z2] +\n",
      "-0.04919764587136754 [Z1 Z2 Z3] +\n",
      "0.16326768673564326 [Z2] +\n",
      "0.04919764587136754 [Z2 Z3]\n"
     ]
    }
   ],
   "source": [
    "uz = get_zform_unitary(qwc)\n",
    "print(\"Checking whether U * U^+ is identity: {}\".format(uz * uz))\n",
    "\n",
    "allz = remove_complex(uz * qwc * uz)\n",
    "print(\"\\nThe all-z form of qwc fragment:\\n{}\".format(allz))"
   ]
  },
  {
   "cell_type": "markdown",
   "source": [
    "Now we will do it for the molecules in question:$H_4$, $N_2$, and $H_2O$."
   ],
   "metadata": {
    "collapsed": false,
    "pycharm": {
     "name": "#%% md\n"
    }
   }
  },
  {
   "cell_type": "code",
   "execution_count": 45,
   "outputs": [],
   "source": [
    "def return_qubit_ham(mol: str, geometry: float, basis: str, transf: str = 'jw', active: dict = None):\n",
    "    xyz = get_molecular_data(mol, geometry, True)\n",
    "    molecule = tq.quantumchemistry.Molecule(geometry=xyz, basis_set=basis,\n",
    "                                            transformation=transf, active_orbitals=active)\n",
    "    ham = molecule.make_hamiltonian()\n",
    "    ham = ham.to_openfermion()\n",
    "    return ham\n",
    "\n",
    "def return_measurement_fragments(ham):\n",
    "    comm_groups = get_commuting_group(ham)\n",
    "    out_dict = {}\n",
    "    for key, group in comm_groups.items():\n",
    "        qwc_unitary = get_qwc_unitary(group)\n",
    "        qwc_op = remove_complex(qwc_unitary * group * qwc_unitary)\n",
    "        unitary_z = get_zform_unitary(qwc_op)\n",
    "        z_measurements = remove_complex(unitary_z * qwc_op * unitary_z)\n",
    "        out_dict[key] = z_measurements\n",
    "    return out_dict"
   ],
   "metadata": {
    "collapsed": false,
    "pycharm": {
     "name": "#%%\n"
    }
   }
  },
  {
   "cell_type": "code",
   "execution_count": 39,
   "outputs": [],
   "source": [
    "#H_4\n",
    "angles = np.linspace(85, 95, 10)\n",
    "h4_dict = {}\n",
    "for a in angles:\n",
    "    ham = return_qubit_ham('h4', a, 'sto-3g', 'jw')\n",
    "    h4_dict[a] = return_measurement_fragments(ham)"
   ],
   "metadata": {
    "collapsed": false,
    "pycharm": {
     "name": "#%%\n"
    }
   }
  },
  {
   "cell_type": "code",
   "execution_count": 43,
   "outputs": [],
   "source": [
    "# generating this takes a long time - let's save so we have it available\n",
    "with open(\"../../week2_data/h4_jw_measurements.pkl\", 'wb') as f:\n",
    "    pkl.dump(h4_dict, f)"
   ],
   "metadata": {
    "collapsed": false,
    "pycharm": {
     "name": "#%%\n"
    }
   }
  },
  {
   "cell_type": "code",
   "execution_count": 46,
   "outputs": [
    {
     "name": "stdout",
     "output_type": "stream",
     "text": [
      "There are known issues with some psi4 methods and frozen virtual orbitals. Proceed with fingers crossed for hf.\n",
      "There are known issues with some psi4 methods and frozen virtual orbitals. Proceed with fingers crossed for hf.\n",
      "There are known issues with some psi4 methods and frozen virtual orbitals. Proceed with fingers crossed for hf.\n",
      "There are known issues with some psi4 methods and frozen virtual orbitals. Proceed with fingers crossed for hf.\n",
      "There are known issues with some psi4 methods and frozen virtual orbitals. Proceed with fingers crossed for hf.\n",
      "There are known issues with some psi4 methods and frozen virtual orbitals. Proceed with fingers crossed for hf.\n",
      "There are known issues with some psi4 methods and frozen virtual orbitals. Proceed with fingers crossed for hf.\n",
      "There are known issues with some psi4 methods and frozen virtual orbitals. Proceed with fingers crossed for hf.\n",
      "There are known issues with some psi4 methods and frozen virtual orbitals. Proceed with fingers crossed for hf.\n",
      "There are known issues with some psi4 methods and frozen virtual orbitals. Proceed with fingers crossed for hf.\n"
     ]
    }
   ],
   "source": [
    "#H2O\n",
    "basis = '6-31g'\n",
    "active = {'B1':[0,1], 'A1':[2,3]}\n",
    "lengths = np.linspace(0.5, 1, 10)\n",
    "h2o_dict = {}\n",
    "for l in lengths:\n",
    "    ham = return_qubit_ham('h2o', l, basis, 'jw', active)\n",
    "    h2o_dict[l] = return_measurement_fragments(ham)"
   ],
   "metadata": {
    "collapsed": false,
    "pycharm": {
     "name": "#%%\n"
    }
   }
  },
  {
   "cell_type": "code",
   "execution_count": 47,
   "outputs": [],
   "source": [
    "with open(\"../../week2_data/h2o_jw_measurements.pkl\", 'wb') as f:\n",
    "    pkl.dump(h2o_dict, f)"
   ],
   "metadata": {
    "collapsed": false,
    "pycharm": {
     "name": "#%%\n"
    }
   }
  },
  {
   "cell_type": "code",
   "execution_count": 50,
   "outputs": [
    {
     "name": "stdout",
     "output_type": "stream",
     "text": [
      "There are known issues with some psi4 methods and frozen virtual orbitals. Proceed with fingers crossed for hf.\n",
      "There are known issues with some psi4 methods and frozen virtual orbitals. Proceed with fingers crossed for hf.\n",
      "There are known issues with some psi4 methods and frozen virtual orbitals. Proceed with fingers crossed for hf.\n",
      "There are known issues with some psi4 methods and frozen virtual orbitals. Proceed with fingers crossed for hf.\n",
      "There are known issues with some psi4 methods and frozen virtual orbitals. Proceed with fingers crossed for hf.\n",
      "There are known issues with some psi4 methods and frozen virtual orbitals. Proceed with fingers crossed for hf.\n",
      "There are known issues with some psi4 methods and frozen virtual orbitals. Proceed with fingers crossed for hf.\n",
      "There are known issues with some psi4 methods and frozen virtual orbitals. Proceed with fingers crossed for hf.\n",
      "There are known issues with some psi4 methods and frozen virtual orbitals. Proceed with fingers crossed for hf.\n",
      "There are known issues with some psi4 methods and frozen virtual orbitals. Proceed with fingers crossed for hf.\n"
     ]
    }
   ],
   "source": [
    "# N2 WARNING: Loooong\n",
    "basis = '6-31g'\n",
    "active = {'AG': [1, 3], 'B1U': [0, 1], 'B3U': [0]}\n",
    "lengths = np.linspace(0.1, 2, 10)\n",
    "n2_dict = {}\n",
    "for l in lengths:\n",
    "    ham = return_qubit_ham('n2', l, basis, 'jw', active)\n",
    "    n2_dict[l] = return_measurement_fragments(ham)\n",
    "    with open(\"../../week2_data/n2_jw_measurements.pkl\", 'wb') as f:\n",
    "        pkl.dump(n2_dict, f)"
   ],
   "metadata": {
    "collapsed": false,
    "pycharm": {
     "name": "#%%\n"
    }
   }
  }
 ],
 "metadata": {
  "language_info": {
   "codemirror_mode": {
    "name": "ipython",
    "version": 3
   },
   "file_extension": ".py",
   "mimetype": "text/x-python",
   "name": "python",
   "nbconvert_exporter": "python",
   "pygments_lexer": "ipython3",
   "version": "3.7.1-final"
  },
  "orig_nbformat": 2,
  "kernelspec": {
   "name": "pycharm-44f2fd2a",
   "language": "python",
   "display_name": "PyCharm (Project_2_VQE_Molecules)"
  }
 },
 "nbformat": 4,
 "nbformat_minor": 2
}